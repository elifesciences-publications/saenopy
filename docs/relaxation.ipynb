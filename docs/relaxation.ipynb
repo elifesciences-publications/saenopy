{
 "cells": [
  {
   "cell_type": "markdown",
   "metadata": {},
   "source": [
    "# Relaxation Mode"
   ]
  },
  {
   "cell_type": "raw",
   "metadata": {
    "raw_mimetype": "text/restructuredtext"
   },
   "source": [
    "This mode solves a boundary condition situation, where the displacement (Dirichlet conditon) or the force (von Neumann condition) on each node is defined."
   ]
  },
  {
   "cell_type": "markdown",
   "metadata": {},
   "source": [
    "## Theory"
   ]
  },
  {
   "cell_type": "raw",
   "metadata": {
    "raw_mimetype": "text/restructuredtext"
   },
   "source": [
    "Due to the high non-linearity of the material, the boundary condition problem has to be solved iteratively.\n",
    "\n",
    "First the quantites stiffness matrix :math:`K_{ij}(U)`, the nodal forces :math:`F_i(U)` and the total energy :math:`E(U)` are calculated for the current displacement :math:`U`.\n",
    "\n",
    ".. math::\n",
    "    K_{ij}(U) &= \\frac{\\partial E}{\\partial u_i\\partial u_j}\\\\\n",
    "    F_{i}(U) &= \\frac{\\partial E}{\\partial u_i}\n",
    "\n",
    "Then the following linear equation (:math:`A\\cdot x = b`) is solved for a with a constant displacement :math:`U`, for an infinitessimal displacement shift :math:`\\Delta u`.\n",
    "\n",
    ".. math::\n",
    "    \\underbrace{\\mathbf{K}(U)}_{A_{ij}} \\cdot \\underbrace{\\Delta u}_{x_j} = \\underbrace{F(U) - F_\\mathrm{ext}}_{b_j}\n",
    "    \n",
    "Where :math:`\\mathbf{K}` is the stiffness matrix, :math:`\\Delta u` an infinitessimal displacement, :math:`F` the force on the node and :math:`F_\\mathrm{ext}` the external force (boundary condition). Note: only forces on *variable* nodes are taken into account as *non-variable* nodes are fixed.\n",
    "\n",
    "This equation is solved using conjugate gradient to obtain a value for :math:`\\Delta u`. A tiny fraction (`stepper`) of this is applied to the displacement :math:`U`. With the new displacement :math:`U`, stiffness matrix :math:`K_{ij}(U)`, the nodal forces :math:`F_i(U)` and the total energy :math:`E(U)` are updated.\n",
    "\n",
    "This procedure is iterated until the energy :math:`E` of the system converges (the standerd deviation of :math:`E` divided by the mean of :math:`E` for the last 6 iterations is lower than the threshold `rel_conv_crit`) or the maximum number of iterations is reached (`i_max`)."
   ]
  },
  {
   "cell_type": "markdown",
   "metadata": {},
   "source": [
    "## Example"
   ]
  },
  {
   "cell_type": "raw",
   "metadata": {
    "raw_mimetype": "text/restructuredtext"
   },
   "source": [
    "This example will explain the basic usage of a relaxation with saeno. This mode solves a boundary condition situation, where the displacement or the force on each node is defined.\n",
    "\n",
    "The code for this example can be downloaded at `relaxation.py <https://bitbucket.org/fabry_biophysics/saeno/raw/tip/docs/relaxation.py>`_."
   ]
  },
  {
   "cell_type": "raw",
   "metadata": {
    "raw_mimetype": "text/restructuredtext"
   },
   "source": [
    "First, import the FiniteBodyForces class."
   ]
  },
  {
   "cell_type": "code",
   "execution_count": 1,
   "metadata": {},
   "outputs": [],
   "source": [
    "from saeno.FiniteBodyForces import FiniteBodyForces\n",
    "    \n",
    "# initialize the object\n",
    "M = FiniteBodyForces()"
   ]
  },
  {
   "cell_type": "raw",
   "metadata": {
    "raw_mimetype": "text/restructuredtext"
   },
   "source": [
    "Set the material model:"
   ]
  },
  {
   "cell_type": "code",
   "execution_count": 2,
   "metadata": {},
   "outputs": [],
   "source": [
    "from saeno.materials import SemiAffineFiberMaterial\n",
    "\n",
    "# provide a material model\n",
    "material = SemiAffineFiberMaterial(1645, 0.0008, 0.0075, 0.033)\n",
    "M.setMaterialModel(material)"
   ]
  },
  {
   "cell_type": "raw",
   "metadata": {
    "raw_mimetype": "text/restructuredtext"
   },
   "source": [
    "Load the mesh from files."
   ]
  },
  {
   "cell_type": "code",
   "execution_count": 3,
   "metadata": {},
   "outputs": [],
   "source": [
    "import numpy as np\n",
    "\n",
    "# define the coordinates of the nodes of the mesh\n",
    "# the array has to have the shape N_n x 3\n",
    "R = np.array([[0., 0., 0.],  # 0\n",
    "              [0., 1., 0.],  # 1\n",
    "              [1., 1., 0.],  # 2\n",
    "              [1., 0., 0.],  # 3\n",
    "              [0., 0., 1.],  # 4\n",
    "              [1., 0., 1.],  # 5\n",
    "              [1., 1., 1.],  # 6\n",
    "              [0., 1., 1.]]) # 7\n",
    "\n",
    "# define the tetrahedra of the mesh\n",
    "# the array has to have the shape N_t x 4\n",
    "# every entry is an index referencing a verces in R (indices start with 0)\n",
    "T = np.array([[0, 1, 7, 2],\n",
    "              [0, 2, 5, 3],\n",
    "              [0, 4, 5, 7],\n",
    "              [2, 5, 6, 7],\n",
    "              [0, 7, 5, 2]])\n",
    "\n",
    "# the initial displacements of the nodes\n",
    "# if the node is fixed (e.g. not variable) than this displacement will be fixed\n",
    "# during the solving\n",
    "U = np.array([[  0.  ,   0.  ,   0.  ],  # 0\n",
    "              [  0.  ,   0.  ,   0.  ],  # 1\n",
    "              [np.nan, np.nan, np.nan],  # 2\n",
    "              [np.nan, np.nan, np.nan],  # 3\n",
    "              [  0.  ,   0.  ,   0.  ],  # 4\n",
    "              [np.nan, np.nan, np.nan],  # 5\n",
    "              [np.nan, np.nan, np.nan],  # 6\n",
    "              [  0.  ,   0.  ,   0.  ]]) # 7\n",
    "\n",
    "# for the variable nodes, we can specify the target force.\n",
    "# this is the force that the material applies after solving onto the nodes\n",
    "# therefore for a pull to the right (positive x-direction) we have to provide\n",
    "# a target force to the left (negative x-direction)\n",
    "F_ext = np.array([[np.nan, np.nan, np.nan],  # 0\n",
    "                  [np.nan, np.nan, np.nan],  # 1\n",
    "                  [-2.5  ,  0.   ,  0.   ],  # 2\n",
    "                  [-2.5  ,  0.   ,  0.   ],  # 3\n",
    "                  [np.nan, np.nan, np.nan],  # 4\n",
    "                  [-2.5  ,  0.   ,  0.   ],  # 5\n",
    "                  [-2.5  ,  0.   ,  0.   ],  # 6\n",
    "                  [np.nan, np.nan, np.nan]]) # 7"
   ]
  },
  {
   "cell_type": "raw",
   "metadata": {
    "raw_mimetype": "text/restructuredtext"
   },
   "source": [
    "And hand the data over to the FiniteBodyForces object."
   ]
  },
  {
   "cell_type": "code",
   "execution_count": 4,
   "metadata": {},
   "outputs": [],
   "source": [
    "# provide the node data\n",
    "M.setNodes(R)\n",
    "# the tetrahedron data\n",
    "M.setTetrahedra(T)\n",
    "# and the boundary condition\n",
    "M.setBoundaryCondition(U, F_ext)"
   ]
  },
  {
   "cell_type": "raw",
   "metadata": {
    "raw_mimetype": "text/restructuredtext"
   },
   "source": [
    "Now we can start the relaxation process."
   ]
  },
  {
   "cell_type": "code",
   "execution_count": 5,
   "metadata": {},
   "outputs": [
    {
     "name": "stdout",
     "output_type": "stream",
     "text": [
      "updating forces and stiffness matrix finished 4.11s\n",
      "updating forces and stiffness matrix finished 0.11s\n",
      "Newton  0 : du= 0.00010939502396638188   Energy= 0.0031590583376867993   Residuum= 0.4572756170424468\n",
      "updating forces and stiffness matrix finished 0.10s\n",
      "Newton  1 : du= 0.0001415107587113432   Energy= 0.011884145816101402   Residuum= 1.6143429011241879\n",
      "updating forces and stiffness matrix finished 0.13s\n",
      "Newton  2 : du= 0.00018113918265852185   Energy= 0.024702611677814814   Residuum= 3.2280055624442134\n",
      "updating forces and stiffness matrix finished 0.12s\n",
      "Newton  3 : du= 0.00015057254204701285   Energy= 0.03877020687930312   Residuum= 5.041498350306811\n",
      "updating forces and stiffness matrix finished 0.14s\n",
      "Newton  4 : du= 0.00010810159858197086   Energy= 0.052503967119413006   Residuum= 6.897654048819133\n",
      "updating forces and stiffness matrix finished 0.18s\n",
      "Newton  5 : du= 7.428224089474375e-05   Energy= 0.06526280632257556   Residuum= 8.710446113097255\n",
      "updating forces and stiffness matrix finished 0.16s\n",
      "Newton  6 : du= 5.062743983867585e-05   Energy= 0.07682898721859409   Residuum= 10.431202024549577\n",
      "updating forces and stiffness matrix finished 0.10s\n",
      "Newton  7 : du= 3.463468790036413e-05   Energy= 0.08717197130855253   Residuum= 12.033576367668527\n",
      "updating forces and stiffness matrix finished 0.10s\n",
      "Newton  8 : du= 2.3915952338792977e-05   Energy= 0.09634493341219222   Residuum= 13.505099893425902\n",
      "updating forces and stiffness matrix finished 0.08s\n",
      "Newton  9 : du= 1.6673221328850827e-05   Energy= 0.10443643648521259   Residuum= 14.84257045180972\n",
      "updating forces and stiffness matrix finished 0.15s\n",
      "Newton  10 : du= 1.173234591689621e-05   Energy= 0.11154779070329549   Residuum= 16.048452097931584\n",
      "updating forces and stiffness matrix finished 0.17s\n",
      "Newton  11 : du= 8.33198815165564e-06   Energy= 0.11778122774580964   Residuum= 17.128792300275393\n",
      "updating forces and stiffness matrix finished 0.14s\n",
      "Newton  12 : du= 5.9624497655881e-06   Energy= 0.12323453795970293   Residuum= 18.091729774186444\n",
      "updating forces and stiffness matrix finished 0.09s\n",
      "Newton  13 : du= 4.296008749872232e-06   Energy= 0.12799834427348517   Residuum= 18.946470320631647\n",
      "updating forces and stiffness matrix finished 0.11s\n",
      "Newton  14 : du= 3.1137698391645185e-06   Energy= 0.13215510683252046   Residuum= 19.702580057337478\n",
      "updating forces and stiffness matrix finished 0.10s\n",
      "Newton  15 : du= 2.2694646338040257e-06   Energy= 0.13577890774352935   Residuum= 20.36954152457521\n",
      "updating forces and stiffness matrix finished 0.15s\n",
      "Newton  16 : du= 1.6617921001583063e-06   Energy= 0.13893580044041287   Residuum= 20.956465468966424\n",
      "updating forces and stiffness matrix finished 0.14s\n",
      "Newton  17 : du= 1.2214253418829207e-06   Energy= 0.1416843426260011   Residuum= 21.47192985659455\n",
      "updating forces and stiffness matrix finished 0.18s\n",
      "Newton  18 : du= 9.005890109571394e-07   Energy= 0.14407621733280843   Residuum= 21.923875375907794\n",
      "updating forces and stiffness matrix finished 0.17s\n",
      "Newton  19 : du= 6.659123545096053e-07   Energy= 0.1461568908037495   Residuum= 22.319569010182512\n",
      "updating forces and stiffness matrix finished 0.18s\n",
      "Newton  20 : du= 4.936644409716759e-07   Energy= 0.1479662637083212   Residuum= 22.665593600952548\n",
      "| time for relaxation was 2.886277437210083\n"
     ]
    }
   ],
   "source": [
    "# relax the mesh and move the \"varible\" nodes\n",
    "M.relax()"
   ]
  },
  {
   "cell_type": "raw",
   "metadata": {
    "raw_mimetype": "text/restructuredtext"
   },
   "source": [
    "Finally, we can save the final status of the mesh."
   ]
  },
  {
   "cell_type": "code",
   "execution_count": 6,
   "metadata": {},
   "outputs": [
    {
     "name": "stdout",
     "output_type": "stream",
     "text": [
      "F.dat stored.\n",
      "R.dat stored.\n",
      "U.dat stored.\n",
      "RR.dat stored.\n",
      "EV.dat stored.\n"
     ]
    }
   ],
   "source": [
    "# store the forces of the nodes\n",
    "M.storeF(\"F.dat\")\n",
    "# store the positions and the displacements\n",
    "M.storeRAndU(\"R.dat\", \"U.dat\")\n",
    "# store the center of each tetrahedron and a combined list with energies and volumina of the tetrahedrons\n",
    "M.storeEandV(\"RR.dat\", \"EV.dat\")"
   ]
  },
  {
   "cell_type": "code",
   "execution_count": 7,
   "metadata": {},
   "outputs": [
    {
     "data": {
      "text/plain": [
       "array([[ 0.   ,  0.   ,  0.   ],\n",
       "       [ 0.   ,  0.   ,  0.   ],\n",
       "       [ 0.022, -0.013,  0.013],\n",
       "       [ 0.049,  0.034,  0.034],\n",
       "       [ 0.   ,  0.   ,  0.   ],\n",
       "       [ 0.022,  0.013, -0.013],\n",
       "       [ 0.049, -0.034, -0.034],\n",
       "       [ 0.   ,  0.   ,  0.   ]])"
      ]
     },
     "execution_count": 7,
     "metadata": {},
     "output_type": "execute_result"
    }
   ],
   "source": [
    "# the resulting displacement\n",
    "np.set_printoptions(precision=3, suppress=True)\n",
    "M.U"
   ]
  },
  {
   "cell_type": "code",
   "execution_count": 8,
   "metadata": {},
   "outputs": [
    {
     "data": {
      "text/plain": [
       "array([[ 2.885,  0.757,  0.757],\n",
       "       [ 1.876, -0.743,  0.743],\n",
       "       [-2.374, -0.008,  0.008],\n",
       "       [-2.387,  0.008,  0.008],\n",
       "       [ 1.876,  0.743, -0.743],\n",
       "       [-2.374,  0.008, -0.008],\n",
       "       [-2.387, -0.008, -0.008],\n",
       "       [ 2.885, -0.757, -0.757]])"
      ]
     },
     "execution_count": 8,
     "metadata": {},
     "output_type": "execute_result"
    }
   ],
   "source": [
    "# the resulting forces on the nodes\n",
    "M.f_glo"
   ]
  },
  {
   "cell_type": "code",
   "execution_count": 9,
   "metadata": {},
   "outputs": [
    {
     "data": {
      "text/plain": [
       "array([[0.   , 0.   , 0.   ],\n",
       "       [0.   , 1.   , 0.   ],\n",
       "       [1.022, 0.987, 0.013],\n",
       "       [1.049, 0.034, 0.034],\n",
       "       [0.   , 0.   , 1.   ],\n",
       "       [1.022, 0.013, 0.987],\n",
       "       [1.049, 0.966, 0.966],\n",
       "       [0.   , 1.   , 1.   ]])"
      ]
     },
     "execution_count": 9,
     "metadata": {},
     "output_type": "execute_result"
    }
   ],
   "source": [
    "# the new position of the nodes\n",
    "M.R+M.U"
   ]
  },
  {
   "cell_type": "code",
   "execution_count": 10,
   "metadata": {},
   "outputs": [
    {
     "data": {
      "text/html": [
       "<h1></h1><iframe srcdoc='\n",
       "    <!--<div id=\"info\"><a href=\"http://threejs.org\" target=\"_blank\" rel=\"noopener\">three.js</a> - dashed lines example</div>-->\n",
       "    <div id=\"container\"></div>\n",
       "    \n",
       "    <script src=\"https://threejs.org/build/three.js\"></script>\n",
       "    \n",
       "    <script src=\"https://threejs.org/examples/js/WebGL.js\"></script>\n",
       "    <script src=\"https://threejs.org/examples/js/libs/stats.min.js\"></script>\n",
       "    <script src=\"https://threejs.org/examples/js/libs/dat.gui.min.js\"></script>\n",
       "    \n",
       "    <script src=\"https://threejs.org/examples/js/controls/OrbitControls.js\"></script>\n",
       "    \n",
       "    <style>\n",
       "    \n",
       "    .dg li {\n",
       "        background: #f7f7f7 !important;\n",
       "    }\n",
       "    .dg {\n",
       "       color: #111;\n",
       "       text-shadow: none;\n",
       "    }\n",
       "    .dg.main .close-button {\n",
       "        background: none;\n",
       "    }\n",
       "    .dg.main .close-button:hover {\n",
       "       background: none;\n",
       "    }\n",
       "    .dg .cr.boolean {\n",
       "        border-left: 1px solid #cfcfcf;\n",
       "    }\n",
       "    .dg .cr.number {\n",
       "        border-left: 1px solid #cfcfcf;\n",
       "    }\n",
       "    .dg .c input[type=text] {\n",
       "        background: #fffefe00;\n",
       "        outline: none;\n",
       "        color: #111 !important;\n",
       "    }\n",
       "    .dg .c input[type=text]:hover {\n",
       "        background: #fffefe00;\n",
       "        outline: none;\n",
       "        color: #111 !important;\n",
       "    }\n",
       "    .dg .c .slider {\n",
       "        background: #d6d6d6;\n",
       "        cursor: ew-resize;\n",
       "        border-radius: 5px;\n",
       "    }\n",
       "    .dg .c .slider:hover {\n",
       "        background: #d6d6d6;\n",
       "    }\n",
       "    .dg .c .slider-fg {\n",
       "        background: #747575;\n",
       "        border-radius: 5px;\n",
       "    }\n",
       "    .dg .c .slider:hover .slider-fg {\n",
       "       background: #42a5f5;\n",
       "    }\n",
       "    .dg li:not(.folder) {\n",
       "        border: 1px solid #cfcfcf;\n",
       "        border-radius: 2px;\n",
       "    }\n",
       "    \n",
       "    </style>\n",
       "    \n",
       "    <script>\n",
       "    \n",
       "    function NewArray(type, base64) {\n",
       "        var binary_string =  window.atob(base64);\n",
       "        var len = binary_string.length;\n",
       "        var bytes = new Uint8Array( len );\n",
       "        for (var i = 0; i < len; i++)        {\n",
       "            bytes[i] = binary_string.charCodeAt(i);\n",
       "        }\n",
       "        return new type(bytes.buffer);\n",
       "    }\n",
       "    \n",
       "        if ( WEBGL.isWebGLAvailable() === false ) {\n",
       "            document.body.appendChild( WEBGL.getWebGLErrorMessage() );\n",
       "        }\n",
       "    \n",
       "        var renderer, scene, camera, stats, controls;\n",
       "        var objects = [];\n",
       "        var gui;\n",
       "    \n",
       "        factor_mesh = 50.000000;\n",
       "        factor_force = 0.100000;\n",
       "    \n",
       "        var WIDTH = window.innerWidth, HEIGHT = window.innerHeight;\n",
       "    \n",
       "        init();\n",
       "        animate();\n",
       "    \n",
       "        function init() {\n",
       "    \n",
       "            camera = new THREE.PerspectiveCamera( 60, WIDTH / HEIGHT, 1, 200 );\n",
       "            camera.position.z = 150;\n",
       "    \n",
       "            scene = new THREE.Scene();\n",
       "            scene.background = new THREE.Color( 0xFFFFFF);//0x111111 );\n",
       "            scene.fog = new THREE.Fog( 0xFFFFFF, 50, 200);\n",
       "    \n",
       "            renderer = new THREE.WebGLRenderer( { antialias: true } );\n",
       "            renderer.setPixelRatio( window.devicePixelRatio );\n",
       "            renderer.setSize( WIDTH, HEIGHT );\n",
       "    \n",
       "            var container = document.getElementById( \"container\" );\n",
       "            container.appendChild( renderer.domElement );\n",
       "    \n",
       "            //stats = new Stats();\n",
       "            //container.appendChild( stats.dom );\n",
       "    \n",
       "            //\n",
       "            addMesh(NewArray(Float64Array, \"AAAAAAAA4L8AAAAAAADgvwAAAAAAAOC/AAAAAAAA4L8AAAAAAADgPwAAAAAAAOC/AAAAAAAA4D8AAAAAAADgPwAAAAAAAOC/AAAAAAAA4D8AAAAAAADgvwAAAAAAAOC/AAAAAAAA4L8AAAAAAADgvwAAAAAAAOA/AAAAAAAA4D8AAAAAAADgvwAAAAAAAOA/AAAAAAAA4D8AAAAAAADgPwAAAAAAAOA/AAAAAAAA4L8AAAAAAADgPwAAAAAAAOA/\"), NewArray(Int32Array, \"AAAAAAEAAAAHAAAAAgAAAAAAAAACAAAABQAAAAMAAAAAAAAABAAAAAUAAAAHAAAAAgAAAAUAAAAGAAAABwAAAAAAAAAHAAAABQAAAAIAAAA=\"), NewArray(Float64Array, \"sKfUrbsUB0CilOsiEzboP8/2eJ1wNeg/WURizqcC/j89hbfZV8Tnv0NvCFbJw+c/ZNdhvyX+AsA8chgRW0SAvwjqAx2vPoA/afKj1ekXA8BN8+6FF1d/PyhVIIX7VX8/UkRizqcC/j9GhbfZV8TnP0FvCFbJw+e/YNdhvyX+AsDQcRgRW0SAPyDrAx2vPoC/a/Kj1ekXA8D28e6FF1d/v7BTIIX7VX+/mqfUrbsUB0CjlOsiEzbov8r2eJ1wNei/\"), NewArray(Float64Array, \"AAAAAAAAAAAAAAAAAAAAAAAAAAAAAAAAAAAAAAAAAAAAAAAAAAAAAAAAAAAAAAAAoSUOI45xlj9zJXlTiJCKv9fItqa5kIo/WwzVT2jtqD/ix30XwX6hP1oDCpe0fqE/AAAAAAAAAAAAAAAAAAAAAAAAAAAAAAAAoSUOI45xlj92JXlTiJCKP9bItqa5kIq/WgzVT2jtqD/mx30XwX6hv18DCpe0fqG/AAAAAAAAAAAAAAAAAAAAAAAAAAAAAAAA\"))\n",
       "            window.addEventListener( \"resize\", onWindowResize, false );\n",
       "    \n",
       "            controls = new THREE.OrbitControls( camera, renderer.domElement );\n",
       "            //controls.minDistance = 10;\n",
       "            //controls.maxDistance = 500;\n",
       "            initGui();\n",
       "    \n",
       "        }\n",
       "    \n",
       "    \n",
       "        function addMesh(points1, tets1, F1, U1) {\n",
       "            points = points1;\n",
       "            tets = tets1;\n",
       "            F = F1;\n",
       "            U = U1;\n",
       "    \n",
       "            for(var i=0; i < points.length; i++) {\n",
       "                points[i] *= factor_mesh;\n",
       "                U[i] *= factor_mesh;\n",
       "            }\n",
       "    \n",
       "            //var h = size * 0.5;\n",
       "    \n",
       "            var geometry = new THREE.BufferGeometry();\n",
       "            var position = [];\n",
       "            console.log(points.length, tets.length);\n",
       "    \n",
       "            connections = [];\n",
       "    \n",
       "            for(var t=0; t < tets.length/4; t++) {\n",
       "                for(var i=0; i < 4; i++) {\n",
       "                    for(var j=0; j < 4; j++) {\n",
       "                        var t1 = tets[t*4+i];\n",
       "                        var t2 = tets[t*4+j];\n",
       "                        if(t1 >= t2)\n",
       "                            continue;\n",
       "                        found = false;\n",
       "                        for(var c=0; c < connections.length; c++) {\n",
       "                            if(connections[c][0] == t1 && connections[c][1] == t2) {\n",
       "                                found = true;\n",
       "                                break;\n",
       "                            }\n",
       "    \n",
       "                        }\n",
       "                        if(found)\n",
       "                            continue;\n",
       "                        connections.push([t1, t2]);\n",
       "                        for(var x=0; x < 3; x++)\n",
       "                            position.push(points[t1*3+x]);\n",
       "                        for(var x=0; x < 3; x++)\n",
       "                            position.push(points[t2*3+x]);\n",
       "                    }\n",
       "                }\n",
       "                //console.log(t);\n",
       "            }\n",
       "            console.log(\"ready\");\n",
       "    \n",
       "            geometry.addAttribute( \"position\", new THREE.Float32BufferAttribute( position, 3 ) );\n",
       "    \n",
       "            //var geometryCube = cube( 50 );\n",
       "    \n",
       "            //var lineSegments = new THREE.LineSegments( geometry, new THREE.LineDashedMaterial( { color: 0xffaa00, dashSize: 3, gapSize: 1 } ) );\n",
       "            mesh_lines = new THREE.LineSegments( geometry, new THREE.LineBasicMaterial( { color: 0xffaa00, linewidth: 0.5, transparent: true, opacity: 0.5} ) );\n",
       "            mesh_lines.computeLineDistances();\n",
       "    \n",
       "            objects.push( mesh_lines );\n",
       "            scene.add( mesh_lines );\n",
       "    \n",
       "            var geometry = new THREE.BufferGeometry();\n",
       "            var position = [];\n",
       "            var force_tips = [];\n",
       "    \n",
       "            for(var i=0; i < U.length/3; i++) {\n",
       "                f_abs = Math.sqrt(F[i*3+0]**2 + F[i*3+1]**2 + F[i*3+2]**2);\n",
       "                factor = factor_force*factor_mesh;//1/f_abs/3000 * f_abs * 100000;\n",
       "                for(var x=0; x < 3; x++)\n",
       "                    position.push((points[i*3+x]));\n",
       "                for(var x=0; x < 3; x++) {\n",
       "                    position.push(points[i * 3 + x] + F[i * 3 + x] * factor);\n",
       "                    force_tips.push(points[i * 3 + x] + F[i * 3 + x] * factor);\n",
       "                }\n",
       "            }\n",
       "    \n",
       "            geometry.addAttribute( \"position\", new THREE.Float32BufferAttribute( position, 3 ) );\n",
       "    \n",
       "            force_mat = new THREE.LineBasicMaterial( { color: 0xaa0000, linewidth: 3,} );\n",
       "            force_lines = new THREE.LineSegments( geometry, force_mat );\n",
       "            force_lines.computeLineDistances();\n",
       "    \n",
       "            objects.push( force_lines );\n",
       "            scene.add( force_lines );\n",
       "    \n",
       "            var sprite = new THREE.TextureLoader().load( \"https://threejs.org/examples/textures/sprites/disc.png\" );\n",
       "    \n",
       "            var geometry = new THREE.BufferGeometry();\n",
       "            geometry.addAttribute( \"position\", new THREE.Float32BufferAttribute( points, 3 ) );\n",
       "            mesh_points = new THREE.Points( geometry, new THREE.PointsMaterial( { size: 8, sizeAttenuation: false, color: 0xffaa00, map: sprite, alphaTest: 0.5, transparent: true } ) );\n",
       "            scene.add( mesh_points );\n",
       "    \n",
       "            var geometry = new THREE.BufferGeometry();\n",
       "            geometry.addAttribute( \"position\", new THREE.Float32BufferAttribute( force_tips, 3 ) );\n",
       "            force_points = new THREE.Points( geometry, new THREE.PointsMaterial( { size: 10, sizeAttenuation: false, color: 0xaa0000, map: sprite, alphaTest: 0.5, transparent: true } ) );\n",
       "            scene.add( force_points );\n",
       "    \n",
       "            // Displacements\n",
       "    \n",
       "            var geometry = new THREE.BufferGeometry();\n",
       "            var position = [];\n",
       "            var displacement_tips = [];\n",
       "    \n",
       "            for(var i=0; i < U.length/3; i++) {\n",
       "                for(var x=0; x < 3; x++)\n",
       "                    position.push((points[i*3+x]));\n",
       "                for(var x=0; x < 3; x++) {\n",
       "                    position.push(points[i * 3 + x] + U[i * 3 + x]);\n",
       "                    displacement_tips.push(points[i * 3 + x] + U[i * 3 + x]);\n",
       "                }\n",
       "            }\n",
       "    \n",
       "            geometry.addAttribute( \"position\", new THREE.Float32BufferAttribute( position, 3 ) );\n",
       "            displacement_mat = new THREE.LineBasicMaterial( { color: 0x00aa00, linewidth: 2,} );\n",
       "            displacement_lines = new THREE.LineSegments( geometry, displacement_mat );\n",
       "            displacement_lines.computeLineDistances();\n",
       "    \n",
       "            objects.push( displacement_lines );\n",
       "            scene.add( displacement_lines );\n",
       "    \n",
       "            var geometry = new THREE.BufferGeometry();\n",
       "            geometry.addAttribute( \"position\", new THREE.Float32BufferAttribute( displacement_tips, 3 ) );\n",
       "            displacement_points = new THREE.Points( geometry, new THREE.PointsMaterial( { size: 10, sizeAttenuation: false, color: 0x00aa00, map: sprite, alphaTest: 0.5, transparent: true } ) );\n",
       "            scene.add( displacement_points );\n",
       "        }\n",
       "    \n",
       "        function onWindowResize() {\n",
       "            camera.aspect = window.innerWidth / window.innerHeight;\n",
       "            camera.updateProjectionMatrix();\n",
       "            renderer.setSize( window.innerWidth, window.innerHeight );\n",
       "        }\n",
       "    \n",
       "        function animate() {\n",
       "            requestAnimationFrame( animate );\n",
       "    \n",
       "            render();\n",
       "            renderer.render( scene, camera );\n",
       "            //stats.update();\n",
       "    \n",
       "        }\n",
       "    \n",
       "        function render() {\n",
       "    \n",
       "            var time = Date.now() * 0.001;\n",
       "    \n",
       "            scene.traverse( function ( object ) {\n",
       "    \n",
       "                //if ( object.isLine ) {\n",
       "    \n",
       "                    object.rotation.y = 0.25 * time;\n",
       "                    //object.rotation.y = 0.25 * time;\n",
       "    \n",
       "                //}\n",
       "    \n",
       "            } );\n",
       "    \n",
       "            renderer.render( scene, camera );\n",
       "    \n",
       "        }\n",
       "    \n",
       "        function initGui() {\n",
       "            gui = new dat.GUI();\n",
       "            var param = {\n",
       "                \"mesh\": true,\n",
       "                \"forces\": true,\n",
       "                \"force scale\": 1,\n",
       "                \"displacements\": true,\n",
       "                \"view_range\" : 200,\n",
       "            };\n",
       "            gui.add( param, \"mesh\" ).onChange( function ( val ) {\n",
       "                mesh_lines.visible = val;\n",
       "                mesh_points.visible = val;\n",
       "            } );\n",
       "            gui.add( param, \"forces\" ).onChange( function ( val ) {\n",
       "                force_lines.visible = val;\n",
       "                force_points.visible = val;\n",
       "            } );\n",
       "    \n",
       "            gui.add( param, \"force scale\", 1, 8, 0.1 ).onChange( function ( val ) {\n",
       "                var position = [];\n",
       "                var force_tips = [];\n",
       "    \n",
       "                for(var i=0; i < U.length/3; i++) {\n",
       "                    f_abs = Math.sqrt(F[i * 3 + 0] ** 2 + F[i * 3 + 1] ** 2 + F[i * 3 + 2] ** 2);\n",
       "                    factor = factor_force * factor_mesh * val;//1/f_abs/3000 * f_abs * 100000;\n",
       "                    for (var x = 0; x < 3; x++)\n",
       "                        position.push((points[i * 3 + x]));\n",
       "                    for (var x = 0; x < 3; x++) {\n",
       "                        position.push(points[i * 3 + x] + F[i * 3 + x] * factor);\n",
       "                        force_tips.push(points[i * 3 + x] + F[i * 3 + x] * factor);\n",
       "                    }\n",
       "                }\n",
       "                force_lines.geometry.addAttribute( \"position\", new THREE.Float32BufferAttribute( position, 3 ) );\n",
       "                force_points.geometry.addAttribute( \"position\", new THREE.Float32BufferAttribute( force_tips, 3 ) );\n",
       "            } );\n",
       "    \n",
       "            gui.add( param, \"displacements\" ).onChange( function ( val ) {\n",
       "                displacement_lines.visible = val;\n",
       "                displacement_points.visible = val;\n",
       "            } );\n",
       "    \n",
       "            gui.add( param, \"view_range\", 10, 300, 1 ).onChange( function ( val ) {\n",
       "                scene.fog.far = val;\n",
       "            } );\n",
       "        }\n",
       "    \n",
       "    </script>\n",
       "    ' scrolling=no style='border:none; width: 100%; height: 600px'></iframe>"
      ],
      "text/plain": [
       "<IPython.core.display.HTML object>"
      ]
     },
     "metadata": {},
     "output_type": "display_data"
    }
   ],
   "source": [
    "# visualize the meshes\n",
    "M.viewMesh(50, 0.1)"
   ]
  }
 ],
 "metadata": {
  "celltoolbar": "Raw Cell Format",
  "kernelspec": {
   "display_name": "Python 3",
   "language": "python",
   "name": "python3"
  },
  "language_info": {
   "codemirror_mode": {
    "name": "ipython",
    "version": 3
   },
   "file_extension": ".py",
   "mimetype": "text/x-python",
   "name": "python",
   "nbconvert_exporter": "python",
   "pygments_lexer": "ipython3",
   "version": "3.7.1"
  }
 },
 "nbformat": 4,
 "nbformat_minor": 1
}
