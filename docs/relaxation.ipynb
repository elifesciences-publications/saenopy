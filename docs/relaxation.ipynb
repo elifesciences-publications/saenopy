{
 "cells": [
  {
   "cell_type": "markdown",
   "metadata": {},
   "source": [
    "# Relaxation Mode"
   ]
  },
  {
   "cell_type": "raw",
   "metadata": {
    "raw_mimetype": "text/restructuredtext"
   },
   "source": [
    "This example will explain the basic usage of a relaxation with saeno. The code can be downloaded at `relaxation.py <https://bitbucket.org/fabry_biophysics/saeno/src/default/docs/relaxation.py>`_.\n",
    "\n",
    "Import the FiniteBodyForces class."
   ]
  },
  {
   "cell_type": "code",
   "execution_count": 1,
   "metadata": {},
   "outputs": [],
   "source": [
    "from saeno.FiniteBodyForces import FiniteBodyForces\n",
    "    \n",
    "# initialize the object\n",
    "M = FiniteBodyForces()"
   ]
  },
  {
   "cell_type": "raw",
   "metadata": {
    "raw_mimetype": "text/restructuredtext"
   },
   "source": [
    "Set the material model:"
   ]
  },
  {
   "cell_type": "code",
   "execution_count": 2,
   "metadata": {},
   "outputs": [],
   "source": [
    "from saeno.materials import semiAffineFiberMaterial\n",
    "\n",
    "# provide a material model\n",
    "material = semiAffineFiberMaterial(1645, 0.0008, 0.0075, 0.033)\n",
    "M.setMaterialModel(material)"
   ]
  },
  {
   "cell_type": "raw",
   "metadata": {
    "raw_mimetype": "text/restructuredtext"
   },
   "source": [
    "Load the mesh from files."
   ]
  },
  {
   "cell_type": "code",
   "execution_count": 3,
   "metadata": {},
   "outputs": [],
   "source": [
    "import numpy as np\n",
    "\n",
    "# define the coordinates of the nodes of the mesh\n",
    "# the array has to have the shape N_v x 3\n",
    "R = np.array([[0., 0., 0.],  # 0\n",
    "              [0., 1., 0.],  # 1\n",
    "              [1., 1., 0.],  # 2\n",
    "              [1., 0., 0.],  # 3\n",
    "              [0., 0., 1.],  # 4\n",
    "              [1., 0., 1.],  # 5\n",
    "              [1., 1., 1.],  # 6\n",
    "              [0., 1., 1.]]) # 7\n",
    "\n",
    "# define the tetrahedra of the mesh\n",
    "# the array has to have the shape N_t x 4\n",
    "# every entry is an index referencing a verces in R (indices start with 0)\n",
    "T = np.array([[0, 1, 7, 2],\n",
    "              [0, 2, 5, 3],\n",
    "              [0, 4, 5, 7],\n",
    "              [2, 5, 6, 7],\n",
    "              [0, 7, 5, 2]])\n",
    "\n",
    "# define if the nodes are \"variable\", e.g. allowed to be moved by the solver\n",
    "# a boolean matrix with shape N_v\n",
    "#                   0      1      2      3      4      5      6      7\n",
    "var = np.array([ True,  True, False, False,  True, False, False,  True])\n",
    "\n",
    "# the initial displacements of the nodes\n",
    "# if the node is fixed (e.g. not variable) than this displacement will be fixed\n",
    "# during the solving\n",
    "U = np.array([[ 0.  ,  0.  ,  0.  ],  # 0\n",
    "              [ 0.  ,  0.  ,  0.  ],  # 1\n",
    "              [-0.25,  0.  ,  0.  ],  # 2\n",
    "              [-0.25,  0.  ,  0.  ],  # 3\n",
    "              [ 0.  ,  0.  ,  0.  ],  # 4\n",
    "              [-0.25,  0.  ,  0.  ],  # 5\n",
    "              [-0.25,  0.  ,  0.  ],  # 6\n",
    "              [ 0.  ,  0.  ,  0.  ]]) # 7"
   ]
  },
  {
   "cell_type": "raw",
   "metadata": {
    "raw_mimetype": "text/restructuredtext"
   },
   "source": [
    "And hand the data over to the FiniteBodyForces object."
   ]
  },
  {
   "cell_type": "code",
   "execution_count": 4,
   "metadata": {},
   "outputs": [],
   "source": [
    "# provide the node data\n",
    "M.setNodes(R, var, U)\n",
    "# and the tetrahedron data\n",
    "M.setTetrahedra(T)"
   ]
  },
  {
   "cell_type": "raw",
   "metadata": {
    "raw_mimetype": "text/restructuredtext"
   },
   "source": [
    "Now we can start the relaxation process."
   ]
  },
  {
   "cell_type": "code",
   "execution_count": 5,
   "metadata": {},
   "outputs": [
    {
     "name": "stdout",
     "output_type": "stream",
     "text": [
      "updating forces and stiffness matrix finished 3.19s\n",
      "updating forces and stiffness matrix finished 0.06s\n",
      "Newton  0 : du= 0.031156870127166923   Energy= 100000000000.0   Residuum= 1.0327892029427537e+22\n",
      "updating forces and stiffness matrix finished 0.06s\n",
      "Newton  1 : du= 0.0292415021637474   Energy= 100000000000.0   Residuum= 9.748154637951108e+21\n",
      "updating forces and stiffness matrix finished 0.06s\n",
      "Newton  2 : du= 0.026997081132468067   Energy= 100000000000.0   Residuum= 9.138863858833917e+21\n",
      "updating forces and stiffness matrix finished 0.06s\n",
      "Newton  3 : du= 0.024434046967636177   Energy= 100000000000.0   Residuum= 8.504454079265089e+21\n",
      "updating forces and stiffness matrix finished 0.06s\n",
      "Newton  4 : du= 0.021604060891893886   Energy= 100000000000.0   Residuum= 7.848448698197649e+21\n",
      "updating forces and stiffness matrix finished 0.06s\n",
      "Newton  5 : du= 0.018594624755017816   Energy= 100000000000.0   Residuum= 7.177952409714575e+21\n",
      "updating forces and stiffness matrix finished 0.07s\n",
      "Newton  6 : du= 0.015543277464995396   Energy= 100000000000.0   Residuum= 6.500666833272098e+21\n",
      "updating forces and stiffness matrix finished 0.06s\n",
      "Newton  7 : du= 0.01261030173429423   Energy= 100000000000.0   Residuum= 5.825826293084143e+21\n",
      "| time for relaxation was 0.5176150798797607\n"
     ]
    }
   ],
   "source": [
    "# relax the mesh and move the \"varible\" nodes\n",
    "M.relax()"
   ]
  },
  {
   "cell_type": "raw",
   "metadata": {
    "raw_mimetype": "text/restructuredtext"
   },
   "source": [
    "Finally, we can save the final status of the mesh."
   ]
  },
  {
   "cell_type": "code",
   "execution_count": 6,
   "metadata": {},
   "outputs": [
    {
     "name": "stdout",
     "output_type": "stream",
     "text": [
      "F.dat stored.\n",
      "R.dat stored.\n",
      "U.dat stored.\n",
      "RR.dat stored.\n",
      "EV.dat stored.\n"
     ]
    }
   ],
   "source": [
    "# store the forces of the nodes\n",
    "M.storeF(\"F.dat\")\n",
    "# store the positions and the displacements\n",
    "M.storeRAndU(\"R.dat\", \"U.dat\")\n",
    "# store the center of each tetrahedron and a combined list with energies and volumina of the tetrahedrons\n",
    "M.storeEandV(\"RR.dat\", \"EV.dat\")"
   ]
  }
 ],
 "metadata": {
  "celltoolbar": "Raw Cell Format",
  "kernelspec": {
   "display_name": "Python 3",
   "language": "python",
   "name": "python3"
  },
  "language_info": {
   "codemirror_mode": {
    "name": "ipython",
    "version": 3
   },
   "file_extension": ".py",
   "mimetype": "text/x-python",
   "name": "python",
   "nbconvert_exporter": "python",
   "pygments_lexer": "ipython3",
   "version": "3.7.1"
  }
 },
 "nbformat": 4,
 "nbformat_minor": 1
}
