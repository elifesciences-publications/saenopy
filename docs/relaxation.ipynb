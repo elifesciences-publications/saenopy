{
 "cells": [
  {
   "cell_type": "markdown",
   "metadata": {},
   "source": [
    "# Relaxation Mode"
   ]
  },
  {
   "cell_type": "raw",
   "metadata": {
    "raw_mimetype": "text/restructuredtext"
   },
   "source": [
    "This mode solves a boundary condition situation, where the displacement (Dirichlet conditon) or the force (von Neumann condition) on each node is defined."
   ]
  },
  {
   "cell_type": "markdown",
   "metadata": {},
   "source": [
    "## Theory"
   ]
  },
  {
   "cell_type": "raw",
   "metadata": {
    "raw_mimetype": "text/restructuredtext"
   },
   "source": [
    "Due to the high non-linearity of the material, the boundary condition problem has to be solved iteratively.\n",
    "\n",
    "First the quantites stiffness matrix :math:`K_{ij}(U)`, the nodal forces :math:`F_i(U)` and the total energy :math:`E(U)` are calculated for the current displacement :math:`U`.\n",
    "\n",
    ".. math::\n",
    "    K_{ij}(U) &= \\frac{\\partial E}{\\partial u_i\\partial u_j}\\\\\n",
    "    F_{i}(U) &= \\frac{\\partial E}{\\partial u_i}\n",
    "\n",
    "Then the following linear equation (:math:`A\\cdot x = b`) is solved for a with a constant displacement :math:`U`, for an infinitessimal displacement shift :math:`\\Delta u`.\n",
    "\n",
    ".. math::\n",
    "    \\underbrace{\\mathbf{K}(U)}_{A_{ij}} \\cdot \\underbrace{\\Delta u}_{x_j} = \\underbrace{F(U) - F_\\mathrm{ext}}_{b_j}\n",
    "    \n",
    "Where :math:`\\mathbf{K}` is the stiffness matrix, :math:`\\Delta u` an infinitessimal displacement, :math:`F` the force on the node and :math:`F_\\mathrm{ext}` the external force (boundary condition). Note: only forces on *variable* nodes are taken into account as *non-variable* nodes are fixed.\n",
    "\n",
    "This equation is solved using conjugate gradient to obtain a value for :math:`\\Delta u`. A tiny fraction (`stepper`) of this is applied to the displacement :math:`U`. With the new displacement :math:`U`, stiffness matrix :math:`K_{ij}(U)`, the nodal forces :math:`F_i(U)` and the total energy :math:`E(U)` are updated.\n",
    "\n",
    "This procedure is iterated until the energy :math:`E` of the system converges (the standerd deviation of :math:`E` divided by the mean of :math:`E` for the last 6 iterations is lower than the threshold `rel_conv_crit`) or the maximum number of iterations is reached (`i_max`)."
   ]
  },
  {
   "cell_type": "markdown",
   "metadata": {},
   "source": [
    "## Example"
   ]
  },
  {
   "cell_type": "raw",
   "metadata": {
    "raw_mimetype": "text/restructuredtext"
   },
   "source": [
    "This example will explain the basic usage of a relaxation with saenopy. This mode solves a boundary condition situation, where the displacement or the force on each node is defined.\n",
    "\n",
    "The code for this example can be downloaded at `relaxation.py <https://bitbucket.org/fabry_biophysics/saenopy/raw/tip/docs/relaxation.py>`_."
   ]
  },
  {
   "cell_type": "markdown",
   "metadata": {
    "raw_mimetype": "text/restructuredtext"
   },
   "source": [
    "First, import the FiniteBodyForces class."
   ]
  },
  {
   "cell_type": "code",
   "execution_count": 1,
   "metadata": {},
   "outputs": [],
   "source": [
    "from saenopy import FiniteBodyForces\n",
    "import saenopy\n",
    "# initialize the object\n",
    "M = FiniteBodyForces()"
   ]
  },
  {
   "cell_type": "markdown",
   "metadata": {
    "raw_mimetype": "text/restructuredtext"
   },
   "source": [
    "Set the material model:"
   ]
  },
  {
   "cell_type": "code",
   "execution_count": 2,
   "metadata": {},
   "outputs": [],
   "source": [
    "from saenopy.materials import SemiAffineFiberMaterial\n",
    "\n",
    "# provide a material model\n",
    "material = SemiAffineFiberMaterial(1645, 0.0008, 0.0075, 0.033)\n",
    "M.setMaterialModel(material)"
   ]
  },
  {
   "cell_type": "markdown",
   "metadata": {
    "raw_mimetype": "text/restructuredtext"
   },
   "source": [
    "Load the mesh from files."
   ]
  },
  {
   "cell_type": "code",
   "execution_count": 12,
   "metadata": {},
   "outputs": [],
   "source": [
    "import numpy as np\n",
    "\n",
    "# define the coordinates of the nodes of the mesh\n",
    "# the array has to have the shape N_n x 3\n",
    "R = np.array([[0., 0., 0.],  # 0\n",
    "              [0., 1., 0.],  # 1\n",
    "              [1., 1., 0.],  # 2\n",
    "              [1., 0., 0.],  # 3\n",
    "              [0., 0., 1.],  # 4\n",
    "              [0., 1., 1.],  # 5\n",
    "              [1., 1., 1.],  # 6\n",
    "              [1., 0., 1.]]) # 7\n",
    "\n",
    "# define the tetrahedra of the mesh\n",
    "# the array has to have the shape N_t x 4\n",
    "# every entry is an index referencing a verces in R (indices start with 0)\n",
    "T = np.array([[0, 1, 5, 2],\n",
    "              [0, 2, 7, 3],\n",
    "              [0, 4, 7, 5],\n",
    "              [2, 7, 6, 5],\n",
    "              [0, 5, 7, 2]])\n",
    "T = np.array([[0, 1, 3, 5],\n",
    "             [1, 2, 3, 5],\n",
    "             [0, 5, 3, 4],\n",
    "             [4, 5, 3, 7],\n",
    "             [5, 2, 3, 6],\n",
    "             [3, 5, 6, 7]])\n",
    "\n",
    "# the initial displacements of the nodes\n",
    "# if the node is fixed (e.g. not variable) than this displacement will be fixed\n",
    "# during the solving\n",
    "U = np.array([[  0.  ,   0.  ,   0.  ],  # 0\n",
    "              [  0.  ,   0.  ,   0.  ],  # 1\n",
    "              [np.nan, np.nan, np.nan],  # 2\n",
    "              [np.nan, np.nan, np.nan],  # 3\n",
    "              [  0.  ,   0.  ,   0.  ],  # 4\n",
    "              [  0.  ,   0.  ,   0.  ],  # 5\n",
    "              [np.nan, np.nan, np.nan],  # 6\n",
    "              [np.nan, np.nan, np.nan]]) # 7\n",
    "\n",
    "# for the variable nodes, we can specify the target force.\n",
    "# this is the force that the material applies after solving onto the nodes\n",
    "# therefore for a pull to the right (positive x-direction) we have to provide\n",
    "# a target force to the left (negative x-direction)\n",
    "F_ext = np.array([[np.nan, np.nan, np.nan],  # 0\n",
    "                  [np.nan, np.nan, np.nan],  # 1\n",
    "                  [-2.5  ,  0.   ,  0.   ],  # 2\n",
    "                  [-2.5  ,  0.   ,  0.   ],  # 3\n",
    "                  [np.nan, np.nan, np.nan],  # 4\n",
    "                  [np.nan, np.nan, np.nan],  # 5\n",
    "                  [-2.5  ,  0.   ,  0.   ],  # 6\n",
    "                  [-2.5  ,  0.   ,  0.   ]]) # 7"
   ]
  },
  {
   "cell_type": "markdown",
   "metadata": {
    "raw_mimetype": "text/restructuredtext"
   },
   "source": [
    "\n",
    "And hand the data over to the FiniteBodyForces object."
   ]
  },
  {
   "cell_type": "code",
   "execution_count": 13,
   "metadata": {},
   "outputs": [],
   "source": [
    "# provide the node data\n",
    "M.setNodes(R)\n",
    "# the tetrahedron data\n",
    "M.setTetrahedra(T)\n",
    "# and the boundary condition\n",
    "M.setBoundaryCondition(U, F_ext)"
   ]
  },
  {
   "cell_type": "code",
   "execution_count": 23,
   "metadata": {},
   "outputs": [],
   "source": [
    "U2 = np.zeros_like(M.R)*np.nan\n",
    "F_ext2 = np.zeros_like(M.R)\n",
    "U2[M.R[:, 0] < 0.001] = 0\n",
    "U2[M.R[:, 0] > 1-0.001] = 0\n",
    "U2[M.R[:, 0] > 1-0.001, 0] = 0.1\n",
    "#F_ext2[np.isnan(U2) & np.isnan(F_ext2)] = 0\n",
    "M.setBoundaryCondition(U2, F_ext2)"
   ]
  },
  {
   "cell_type": "code",
   "execution_count": 22,
   "metadata": {},
   "outputs": [
    {
     "name": "stdout",
     "output_type": "stream",
     "text": [
      "[0.00260417 0.00260417 0.00260417 0.00260417 0.00260417 0.00260417\n",
      " 0.00260417 0.00260417 0.00260417 0.00260417 0.00260417 0.00260417\n",
      " 0.00260417 0.00260417 0.00260417 0.00260417 0.00260417 0.00260417\n",
      " 0.00260417 0.00260417 0.00260417 0.00260417 0.00260417 0.00260417\n",
      " 0.00260417 0.00260417 0.00260417 0.00260417 0.00260417 0.00260417\n",
      " 0.00260417 0.00260417 0.00260417 0.00260417 0.00260417 0.00260417\n",
      " 0.00260417 0.00260417 0.00260417 0.00260417 0.00260417 0.00260417\n",
      " 0.00260417 0.00260417 0.00260417 0.00260417 0.00260417 0.00260417\n",
      " 0.00260417 0.00260417 0.00260417 0.00260417 0.00260417 0.00260417\n",
      " 0.00260417 0.00260417 0.00260417 0.00260417 0.00260417 0.00260417\n",
      " 0.00260417 0.00260417 0.00260417 0.00260417 0.00260417 0.00260417\n",
      " 0.00260417 0.00260417 0.00260417 0.00260417 0.00260417 0.00260417\n",
      " 0.00260417 0.00260417 0.00260417 0.00260417 0.00260417 0.00260417\n",
      " 0.00260417 0.00260417 0.00260417 0.00260417 0.00260417 0.00260417\n",
      " 0.00260417 0.00260417 0.00260417 0.00260417 0.00260417 0.00260417\n",
      " 0.00260417 0.00260417 0.00260417 0.00260417 0.00260417 0.00260417\n",
      " 0.00260417 0.00260417 0.00260417 0.00260417 0.00260417 0.00260417\n",
      " 0.00260417 0.00260417 0.00260417 0.00260417 0.00260417 0.00260417\n",
      " 0.00260417 0.00260417 0.00260417 0.00260417 0.00260417 0.00260417\n",
      " 0.00260417 0.00260417 0.00260417 0.00260417 0.00260417 0.00260417\n",
      " 0.00260417 0.00260417 0.00260417 0.00260417 0.00260417 0.00260417\n",
      " 0.00260417 0.00260417 0.00260417 0.00260417 0.00260417 0.00260417\n",
      " 0.00260417 0.00260417 0.00260417 0.00260417 0.00260417 0.00260417\n",
      " 0.00260417 0.00260417 0.00260417 0.00260417 0.00260417 0.00260417\n",
      " 0.00260417 0.00260417 0.00260417 0.00260417 0.00260417 0.00260417\n",
      " 0.00260417 0.00260417 0.00260417 0.00260417 0.00260417 0.00260417\n",
      " 0.00260417 0.00260417 0.00260417 0.00260417 0.00260417 0.00260417\n",
      " 0.00260417 0.00260417 0.00260417 0.00260417 0.00260417 0.00260417\n",
      " 0.00260417 0.00260417 0.00260417 0.00260417 0.00260417 0.00260417\n",
      " 0.00260417 0.00260417 0.00260417 0.00260417 0.00260417 0.00260417\n",
      " 0.00260417 0.00260417 0.00260417 0.00260417 0.00260417 0.00260417\n",
      " 0.00260417 0.00260417 0.00260417 0.00260417 0.00260417 0.00260417\n",
      " 0.00260417 0.00260417 0.00260417 0.00260417 0.00260417 0.00260417\n",
      " 0.00260417 0.00260417 0.00260417 0.00260417 0.00260417 0.00260417\n",
      " 0.00260417 0.00260417 0.00260417 0.00260417 0.00260417 0.00260417\n",
      " 0.00260417 0.00260417 0.00260417 0.00260417 0.00260417 0.00260417\n",
      " 0.00260417 0.00260417 0.00260417 0.00260417 0.00260417 0.00260417\n",
      " 0.00260417 0.00260417 0.00260417 0.00260417 0.00260417 0.00260417\n",
      " 0.00260417 0.00260417 0.00260417 0.00260417 0.00260417 0.00260417\n",
      " 0.00260417 0.00260417 0.00260417 0.00260417 0.00260417 0.00260417\n",
      " 0.00260417 0.00260417 0.00260417 0.00260417 0.00260417 0.00260417\n",
      " 0.00260417 0.00260417 0.00260417 0.00260417 0.00260417 0.00260417\n",
      " 0.00260417 0.00260417 0.00260417 0.00260417 0.00260417 0.00260417\n",
      " 0.00260417 0.00260417 0.00260417 0.00260417 0.00260417 0.00260417\n",
      " 0.00260417 0.00260417 0.00260417 0.00260417 0.00260417 0.00260417\n",
      " 0.00260417 0.00260417 0.00260417 0.00260417 0.00260417 0.00260417\n",
      " 0.00260417 0.00260417 0.00260417 0.00260417 0.00260417 0.00260417\n",
      " 0.00260417 0.00260417 0.00260417 0.00260417 0.00260417 0.00260417\n",
      " 0.00260417 0.00260417 0.00260417 0.00260417 0.00260417 0.00260417\n",
      " 0.00260417 0.00260417 0.00260417 0.00260417 0.00260417 0.00260417\n",
      " 0.00260417 0.00260417 0.00260417 0.00260417 0.00260417 0.00260417\n",
      " 0.00260417 0.00260417 0.00260417 0.00260417 0.00260417 0.00260417\n",
      " 0.00260417 0.00260417 0.00260417 0.00260417 0.00260417 0.00260417\n",
      " 0.00260417 0.00260417 0.00260417 0.00260417 0.00260417 0.00260417\n",
      " 0.00260417 0.00260417 0.00260417 0.00260417 0.00260417 0.00260417\n",
      " 0.00260417 0.00260417 0.00260417 0.00260417 0.00260417 0.00260417\n",
      " 0.00260417 0.00260417 0.00260417 0.00260417 0.00260417 0.00260417\n",
      " 0.00260417 0.00260417 0.00260417 0.00260417 0.00260417 0.00260417\n",
      " 0.00260417 0.00260417 0.00260417 0.00260417 0.00260417 0.00260417\n",
      " 0.00260417 0.00260417 0.00260417 0.00260417 0.00260417 0.00260417\n",
      " 0.00260417 0.00260417 0.00260417 0.00260417 0.00260417 0.00260417\n",
      " 0.00260417 0.00260417 0.00260417 0.00260417 0.00260417 0.00260417\n",
      " 0.00260417 0.00260417 0.00260417 0.00260417 0.00260417 0.00260417\n",
      " 0.00260417 0.00260417 0.00260417 0.00260417 0.00260417 0.00260417]\n"
     ]
    }
   ],
   "source": [
    "for i in range(1):\n",
    "    T, R, U = M.T, M.R, M.U\n",
    "    R = np.hstack((R, U))\n",
    "    T2, R2 = saenopy.multigridHelper.subdivideTetrahedra(T, R)\n",
    "    U = R2[:, 3:6]\n",
    "    R2 = R2[:, :3]\n",
    "    M.setNodes(R2)\n",
    "    M.setTetrahedra(T2)\n",
    "    M.U = U\n",
    "print(saenopy.multigridHelper.getTetrahedraVolumnes(M.T, M.R))\n",
    "#M.viewMesh(10, 1)"
   ]
  },
  {
   "cell_type": "code",
   "execution_count": 24,
   "metadata": {},
   "outputs": [
    {
     "name": "stdout",
     "output_type": "stream",
     "text": [
      "(384, 4)\n",
      "(134,)\n",
      "updating forces and stiffness matrix finished 0.05s\n",
      "(384,) 3.4471385131204317 3.4471385131204317\n"
     ]
    }
   ],
   "source": [
    "print(M.T.shape)\n",
    "print(M.var.shape)\n",
    "M._check_relax_ready()\n",
    "M._prepare_temporary_quantities()\n",
    "M._updateGloFAndK()\n",
    "print(M.E.shape, np.sum(M.E), M.E_glo)"
   ]
  },
  {
   "cell_type": "markdown",
   "metadata": {
    "raw_mimetype": "text/restructuredtext"
   },
   "source": [
    "Now we can start the relaxation process."
   ]
  },
  {
   "cell_type": "code",
   "execution_count": 17,
   "metadata": {},
   "outputs": [
    {
     "name": "stdout",
     "output_type": "stream",
     "text": [
      "updating forces and stiffness matrix finished 3.91s\n",
      "updating forces and stiffness matrix finished 0.00s\n",
      "Newton  0 : du= 8.708063471450434e-37   Energy= 3.447138513120434   Residuum= 2.5741258295994863e-28\n",
      "updating forces and stiffness matrix finished 0.00s\n",
      "Newton  1 : du= 8.70804059409173e-37   Energy= 3.447138513120434   Residuum= 2.5741258295994863e-28\n",
      "updating forces and stiffness matrix finished 0.00s\n",
      "Newton  2 : du= 8.70804059409173e-37   Energy= 3.447138513120434   Residuum= 2.5741258295994863e-28\n",
      "updating forces and stiffness matrix finished 0.00s\n",
      "Newton  3 : du= 8.70804059409173e-37   Energy= 3.447138513120434   Residuum= 2.569138109150268e-28\n",
      "updating forces and stiffness matrix finished 0.01s\n",
      "Newton  4 : du= 8.6566432987152e-37   Energy= 3.447138513120434   Residuum= 2.564184517651383e-28\n",
      "updating forces and stiffness matrix finished 0.00s\n",
      "Newton  5 : du= 8.605461179105087e-37   Energy= 3.447138513120434   Residuum= 2.56417816103493e-28\n",
      "updating forces and stiffness matrix finished 0.01s\n",
      "Newton  6 : du= 8.605397069054938e-37   Energy= 3.447138513120434   Residuum= 2.557804566717879e-28\n",
      "updating forces and stiffness matrix finished 0.00s\n",
      "Newton  7 : du= 8.572285583642408e-37   Energy= 3.447138513120434   Residuum= 2.554710014214445e-28\n",
      "| time for relaxation was 0.037899017333984375\n"
     ]
    }
   ],
   "source": [
    "# relax the mesh and move the \"varible\" nodes\n",
    "M.relax()"
   ]
  },
  {
   "cell_type": "raw",
   "metadata": {
    "raw_mimetype": "text/restructuredtext"
   },
   "source": [
    "Finally, we can save the final status of the mesh."
   ]
  },
  {
   "cell_type": "code",
   "execution_count": 9,
   "metadata": {},
   "outputs": [
    {
     "name": "stdout",
     "output_type": "stream",
     "text": [
      "F.dat stored.\n",
      "R.dat stored.\n",
      "U.dat stored.\n",
      "RR.dat stored.\n",
      "EV.dat stored.\n"
     ]
    }
   ],
   "source": [
    "# store the forces of the nodes\n",
    "M.storeF(\"F.dat\")\n",
    "# store the positions and the displacements\n",
    "M.storeRAndU(\"R.dat\", \"U.dat\")\n",
    "# store the center of each tetrahedron and a combined list with energies and volumina of the tetrahedrons\n",
    "M.storeEandV(\"RR.dat\", \"EV.dat\")"
   ]
  },
  {
   "cell_type": "code",
   "execution_count": 43,
   "metadata": {},
   "outputs": [
    {
     "data": {
      "text/plain": [
       "array([[ 0.   ,  0.   ,  0.   ],\n",
       "       [ 0.   ,  0.   ,  0.   ],\n",
       "       [ 0.04 , -0.035,  0.007],\n",
       "       [ 0.019,  0.007,  0.007],\n",
       "       [ 0.   ,  0.   ,  0.   ],\n",
       "       [ 0.   ,  0.   ,  0.   ],\n",
       "       [ 0.033, -0.013, -0.013],\n",
       "       [ 0.04 ,  0.007, -0.035]])"
      ]
     },
     "execution_count": 43,
     "metadata": {},
     "output_type": "execute_result"
    }
   ],
   "source": [
    "# the resulting displacement\n",
    "np.set_printoptions(precision=3, suppress=True)\n",
    "M.U"
   ]
  },
  {
   "cell_type": "code",
   "execution_count": 44,
   "metadata": {},
   "outputs": [
    {
     "data": {
      "text/plain": [
       "array([2.395, 0.   , 0.   ])"
      ]
     },
     "execution_count": 44,
     "metadata": {},
     "output_type": "execute_result"
    }
   ],
   "source": [
    "# the resulting forces on the nodes\n",
    "M.f\n",
    "np.mean(M.f[M.R[:, 0] < 0.5], axis=0)"
   ]
  },
  {
   "cell_type": "code",
   "execution_count": 45,
   "metadata": {},
   "outputs": [
    {
     "data": {
      "text/plain": [
       "array([-2.395, -0.   , -0.   ])"
      ]
     },
     "execution_count": 45,
     "metadata": {},
     "output_type": "execute_result"
    }
   ],
   "source": [
    "np.mean(M.f[M.R[:, 0] > 0.5], axis=0)"
   ]
  },
  {
   "cell_type": "code",
   "execution_count": 46,
   "metadata": {},
   "outputs": [
    {
     "data": {
      "text/plain": [
       "array([[0.   , 0.   , 0.   ],\n",
       "       [0.   , 1.   , 0.   ],\n",
       "       [1.04 , 0.965, 0.007],\n",
       "       [1.019, 0.007, 0.007],\n",
       "       [0.   , 0.   , 1.   ],\n",
       "       [0.   , 1.   , 1.   ],\n",
       "       [1.033, 0.987, 0.987],\n",
       "       [1.04 , 0.007, 0.965]])"
      ]
     },
     "execution_count": 46,
     "metadata": {},
     "output_type": "execute_result"
    }
   ],
   "source": [
    "# the new position of the nodes\n",
    "M.R+M.U"
   ]
  },
  {
   "cell_type": "code",
   "execution_count": 47,
   "metadata": {},
   "outputs": [
    {
     "data": {
      "text/plain": [
       "0.41880102412235654"
      ]
     },
     "execution_count": 47,
     "metadata": {},
     "output_type": "execute_result"
    }
   ],
   "source": [
    "np.nansum(M.f-M.f_target)"
   ]
  },
  {
   "cell_type": "code",
   "execution_count": 48,
   "metadata": {},
   "outputs": [
    {
     "data": {
      "text/plain": [
       "0.0"
      ]
     },
     "execution_count": 48,
     "metadata": {},
     "output_type": "execute_result"
    }
   ],
   "source": [
    "np.nansum(M.U-M.U_fixed)"
   ]
  },
  {
   "cell_type": "code",
   "execution_count": 49,
   "metadata": {},
   "outputs": [
    {
     "data": {
      "text/plain": [
       "0.16563021893590596"
      ]
     },
     "execution_count": 49,
     "metadata": {},
     "output_type": "execute_result"
    }
   ],
   "source": [
    "np.sum(np.linalg.norm(M.U, axis=1))"
   ]
  },
  {
   "cell_type": "code",
   "execution_count": 50,
   "metadata": {},
   "outputs": [
    {
     "data": {
      "text/html": [
       "<h1></h1><iframe srcdoc='\n",
       "    <!--<div id=\"info\"><a href=\"http://threejs.org\" target=\"_blank\" rel=\"noopener\">three.js</a> - dashed lines example</div>-->\n",
       "    <div id=\"container\"></div>\n",
       "    \n",
       "    <script src=\"https://threejs.org/build/three.js\"></script>\n",
       "    \n",
       "    <script src=\"https://threejs.org/examples/js/WebGL.js\"></script>\n",
       "    <script src=\"https://threejs.org/examples/js/libs/stats.min.js\"></script>\n",
       "    <script src=\"https://threejs.org/examples/js/libs/dat.gui.min.js\"></script>\n",
       "    \n",
       "    <script src=\"https://threejs.org/examples/js/controls/OrbitControls.js\"></script>\n",
       "    \n",
       "    <style>\n",
       "    \n",
       "    .dg li {\n",
       "        background: #f7f7f7 !important;\n",
       "    }\n",
       "    .dg {\n",
       "       color: #111;\n",
       "       text-shadow: none;\n",
       "    }\n",
       "    .dg.main .close-button {\n",
       "        background: none;\n",
       "    }\n",
       "    .dg.main .close-button:hover {\n",
       "       background: none;\n",
       "    }\n",
       "    .dg .cr.boolean {\n",
       "        border-left: 1px solid #cfcfcf;\n",
       "    }\n",
       "    .dg .cr.number {\n",
       "        border-left: 1px solid #cfcfcf;\n",
       "    }\n",
       "    .dg .c input[type=text] {\n",
       "        background: #fffefe00;\n",
       "        outline: none;\n",
       "        color: #111 !important;\n",
       "    }\n",
       "    .dg .c input[type=text]:hover {\n",
       "        background: #fffefe00;\n",
       "        outline: none;\n",
       "        color: #111 !important;\n",
       "    }\n",
       "    .dg .c .slider {\n",
       "        background: #d6d6d6;\n",
       "        cursor: ew-resize;\n",
       "        border-radius: 5px;\n",
       "    }\n",
       "    .dg .c .slider:hover {\n",
       "        background: #d6d6d6;\n",
       "    }\n",
       "    .dg .c .slider-fg {\n",
       "        background: #747575;\n",
       "        border-radius: 5px;\n",
       "    }\n",
       "    .dg .c .slider:hover .slider-fg {\n",
       "       background: #42a5f5;\n",
       "    }\n",
       "    .dg li:not(.folder) {\n",
       "        border: 1px solid #cfcfcf;\n",
       "        border-radius: 2px;\n",
       "    }\n",
       "    \n",
       "    </style>\n",
       "    \n",
       "    <script>\n",
       "    \n",
       "    function NewArray(type, base64) {\n",
       "        var binary_string =  window.atob(base64);\n",
       "        var len = binary_string.length;\n",
       "        var bytes = new Uint8Array( len );\n",
       "        for (var i = 0; i < len; i++)        {\n",
       "            bytes[i] = binary_string.charCodeAt(i);\n",
       "        }\n",
       "        return new type(bytes.buffer);\n",
       "    }\n",
       "    \n",
       "        if ( WEBGL.isWebGLAvailable() === false ) {\n",
       "            document.body.appendChild( WEBGL.getWebGLErrorMessage() );\n",
       "        }\n",
       "    \n",
       "        var renderer, scene, camera, stats, controls;\n",
       "        var objects = [];\n",
       "        var gui;\n",
       "    \n",
       "        factor_mesh = 50.000000;\n",
       "        factor_force = 0.100000;\n",
       "    \n",
       "        var WIDTH = window.innerWidth, HEIGHT = window.innerHeight;\n",
       "    \n",
       "        init();\n",
       "        animate();\n",
       "    \n",
       "        function init() {\n",
       "    \n",
       "            camera = new THREE.PerspectiveCamera( 60, WIDTH / HEIGHT, 1, 200 );\n",
       "            camera.position.z = 150;\n",
       "    \n",
       "            scene = new THREE.Scene();\n",
       "            scene.background = new THREE.Color( 0xFFFFFF);//0x111111 );\n",
       "            scene.fog = new THREE.Fog( 0xFFFFFF, 50, 200);\n",
       "    \n",
       "            renderer = new THREE.WebGLRenderer( { antialias: true } );\n",
       "            renderer.setPixelRatio( window.devicePixelRatio );\n",
       "            renderer.setSize( WIDTH, HEIGHT );\n",
       "    \n",
       "            var container = document.getElementById( \"container\" );\n",
       "            container.appendChild( renderer.domElement );\n",
       "    \n",
       "            //stats = new Stats();\n",
       "            //container.appendChild( stats.dom );\n",
       "    \n",
       "            //\n",
       "            addMesh(NewArray(Float64Array, \"AAAAAAAA4L8AAAAAAADgvwAAAAAAAOC/AAAAAAAA4L8AAAAAAADgPwAAAAAAAOC/AAAAAAAA4D8AAAAAAADgPwAAAAAAAOC/AAAAAAAA4D8AAAAAAADgvwAAAAAAAOC/AAAAAAAA4L8AAAAAAADgvwAAAAAAAOA/AAAAAAAA4L8AAAAAAADgPwAAAAAAAOA/AAAAAAAA4D8AAAAAAADgPwAAAAAAAOA/AAAAAAAA4D8AAAAAAADgvwAAAAAAAOA/\"), NewArray(Int32Array, \"AAAAAAEAAAAAAAAAAwAAAAAAAAAFAAAAAQAAAAMAAAABAAAABQAAAAMAAAAFAAAAAQAAAAIAAAACAAAAAwAAAAIAAAAFAAAAAAAAAAQAAAAEAAAABQAAAAMAAAAEAAAABAAAAAcAAAAFAAAABwAAAAMAAAAHAAAABQAAAAYAAAACAAAABgAAAAMAAAAGAAAABgAAAAcAAAA=\"), NewArray(Float64Array, \"1oIcvHSzA0C4VkqAB+3jP3fzca4T+OM/P8XHZh5DA0CcyK6+MITivzjjevJfNPA/pZQ5lLQsA8CufhziXJaAv4CEVJmlWWo/prlwF+UdA8AsTrN4FYJ8P+Aj2Ken73w/RAyGR+5CA0Cobk/9iU/wP5qElCoQkOK/PKiXJ39rAkBOO8BYzALxv4y+rJH05vC/PyWkr78tA8AgMddbzChnv+AogkFry2S/+4izNqcsA8AAvO04CixuP3C1TsjzkYC/\"), NewArray(Float64Array, \"AAAAAAAAAAAAAAAAAAAAAAAAAAAAAAAAAAAAAAAAAAAAAAAAAAAAAAAAAAAAAAAAkRFFPXtMpD+rOkxdXSSiv5QJiTuTz3s/MXAwu4kakz+eGKyBcqd6P9MgIMfdHXs/AAAAAAAAAAAAAAAAAAAAAAAAAAAAAAAAAAAAAAAAAAAAAAAAAAAAAAAAAAAAAAAASmKIXW/koD9XJoQWnPuJvw22r8HOQYq/bFFvc2NNpD93+acsQ997P2WGX6xeH6K/\"))\n",
       "            window.addEventListener( \"resize\", onWindowResize, false );\n",
       "    \n",
       "            controls = new THREE.OrbitControls( camera, renderer.domElement );\n",
       "            //controls.minDistance = 10;\n",
       "            //controls.maxDistance = 500;\n",
       "            initGui();\n",
       "    \n",
       "        }\n",
       "    \n",
       "    \n",
       "        function addMesh(points1, lines1, F1, U1) {\n",
       "            points = points1;\n",
       "            lines = lines1;\n",
       "            F = F1;\n",
       "            U = U1;\n",
       "    \n",
       "            for(var i=0; i < points.length; i++) {\n",
       "                points[i] *= factor_mesh;\n",
       "                U[i] *= factor_mesh;\n",
       "            }\n",
       "    \n",
       "            //var h = size * 0.5;\n",
       "    \n",
       "            var geometry = new THREE.BufferGeometry();\n",
       "            var position = [];\n",
       "            //console.log(points.length, tets.length);\n",
       "        \n",
       "            for(var t=0; t < lines1.length/2; t++) {\n",
       "                        var t1 = lines1[t*2+0];\n",
       "                        var t2 = lines1[t*2+1];\n",
       "                        for(var x=0; x < 3; x++)\n",
       "                            position.push(points[t1*3+x]);\n",
       "                        for(var x=0; x < 3; x++)\n",
       "                            position.push(points[t2*3+x]);\n",
       "                //console.log(t);\n",
       "            }\n",
       "            console.log(\"ready\");\n",
       "    \n",
       "            geometry.addAttribute( \"position\", new THREE.Float32BufferAttribute( position, 3 ) );\n",
       "    \n",
       "            //var geometryCube = cube( 50 );\n",
       "    \n",
       "            //var lineSegments = new THREE.LineSegments( geometry, new THREE.LineDashedMaterial( { color: 0xffaa00, dashSize: 3, gapSize: 1 } ) );\n",
       "            mesh_lines = new THREE.LineSegments( geometry, new THREE.LineBasicMaterial( { color: 0xffaa00, linewidth: 0.5, transparent: true, opacity: 0.5} ) );\n",
       "            mesh_lines.computeLineDistances();\n",
       "    \n",
       "            objects.push( mesh_lines );\n",
       "            scene.add( mesh_lines );\n",
       "    \n",
       "            var geometry = new THREE.BufferGeometry();\n",
       "            var position = [];\n",
       "            var force_tips = [];\n",
       "    \n",
       "            for(var i=0; i < U.length/3; i++) {\n",
       "                f_abs = Math.sqrt(F[i*3+0]**2 + F[i*3+1]**2 + F[i*3+2]**2);\n",
       "                factor = factor_force*factor_mesh;//1/f_abs/3000 * f_abs * 100000;\n",
       "                for(var x=0; x < 3; x++)\n",
       "                    position.push((points[i*3+x]));\n",
       "                for(var x=0; x < 3; x++) {\n",
       "                    position.push(points[i * 3 + x] + F[i * 3 + x] * factor);\n",
       "                    force_tips.push(points[i * 3 + x] + F[i * 3 + x] * factor);\n",
       "                }\n",
       "            }\n",
       "    \n",
       "            geometry.addAttribute( \"position\", new THREE.Float32BufferAttribute( position, 3 ) );\n",
       "    \n",
       "            force_mat = new THREE.LineBasicMaterial( { color: 0xaa0000, linewidth: 3,} );\n",
       "            force_lines = new THREE.LineSegments( geometry, force_mat );\n",
       "            force_lines.computeLineDistances();\n",
       "    \n",
       "            objects.push( force_lines );\n",
       "            scene.add( force_lines );\n",
       "    \n",
       "            var sprite = new THREE.TextureLoader().load( \"https://threejs.org/examples/textures/sprites/disc.png\" );\n",
       "    \n",
       "            var geometry = new THREE.BufferGeometry();\n",
       "            geometry.addAttribute( \"position\", new THREE.Float32BufferAttribute( points, 3 ) );\n",
       "            mesh_points = new THREE.Points( geometry, new THREE.PointsMaterial( { size: 8, sizeAttenuation: false, color: 0xffaa00, map: sprite, alphaTest: 0.5, transparent: true } ) );\n",
       "            scene.add( mesh_points );\n",
       "    \n",
       "            var geometry = new THREE.BufferGeometry();\n",
       "            geometry.addAttribute( \"position\", new THREE.Float32BufferAttribute( force_tips, 3 ) );\n",
       "            force_points = new THREE.Points( geometry, new THREE.PointsMaterial( { size: 10, sizeAttenuation: false, color: 0xaa0000, map: sprite, alphaTest: 0.5, transparent: true } ) );\n",
       "            scene.add( force_points );\n",
       "    \n",
       "            // Displacements\n",
       "    \n",
       "            var geometry = new THREE.BufferGeometry();\n",
       "            var position = [];\n",
       "            var displacement_tips = [];\n",
       "    \n",
       "            for(var i=0; i < U.length/3; i++) {\n",
       "                for(var x=0; x < 3; x++)\n",
       "                    position.push((points[i*3+x]));\n",
       "                for(var x=0; x < 3; x++) {\n",
       "                    position.push(points[i * 3 + x] + U[i * 3 + x]);\n",
       "                    displacement_tips.push(points[i * 3 + x] + U[i * 3 + x]);\n",
       "                }\n",
       "            }\n",
       "    \n",
       "            geometry.addAttribute( \"position\", new THREE.Float32BufferAttribute( position, 3 ) );\n",
       "            displacement_mat = new THREE.LineBasicMaterial( { color: 0x00aa00, linewidth: 2,} );\n",
       "            displacement_lines = new THREE.LineSegments( geometry, displacement_mat );\n",
       "            displacement_lines.computeLineDistances();\n",
       "    \n",
       "            objects.push( displacement_lines );\n",
       "            scene.add( displacement_lines );\n",
       "    \n",
       "            var geometry = new THREE.BufferGeometry();\n",
       "            geometry.addAttribute( \"position\", new THREE.Float32BufferAttribute( displacement_tips, 3 ) );\n",
       "            displacement_points = new THREE.Points( geometry, new THREE.PointsMaterial( { size: 10, sizeAttenuation: false, color: 0x00aa00, map: sprite, alphaTest: 0.5, transparent: true } ) );\n",
       "            scene.add( displacement_points );\n",
       "        }\n",
       "    \n",
       "        function onWindowResize() {\n",
       "            camera.aspect = window.innerWidth / window.innerHeight;\n",
       "            camera.updateProjectionMatrix();\n",
       "            renderer.setSize( window.innerWidth, window.innerHeight );\n",
       "        }\n",
       "    \n",
       "        function animate() {\n",
       "            requestAnimationFrame( animate );\n",
       "    \n",
       "            render();\n",
       "            renderer.render( scene, camera );\n",
       "            //stats.update();\n",
       "    \n",
       "        }\n",
       "    \n",
       "        function render() {\n",
       "    \n",
       "            var time = Date.now() * 0.001;\n",
       "    \n",
       "            scene.traverse( function ( object ) {\n",
       "    \n",
       "                //if ( object.isLine ) {\n",
       "    \n",
       "                    //object.rotation.y = 0.25 * time;\n",
       "                    //object.rotation.y = 0.25 * time;\n",
       "    \n",
       "                //}\n",
       "    \n",
       "            } );\n",
       "    \n",
       "            renderer.render( scene, camera );\n",
       "    \n",
       "        }\n",
       "    \n",
       "        function initGui() {\n",
       "            gui = new dat.GUI();\n",
       "            var param = {\n",
       "                \"mesh\": true,\n",
       "                \"forces\": true,\n",
       "                \"force scale\": 1,\n",
       "                \"displacements\": true,\n",
       "                \"view_range\" : 200,\n",
       "            };\n",
       "            gui.add( param, \"mesh\" ).onChange( function ( val ) {\n",
       "                mesh_lines.visible = val;\n",
       "                mesh_points.visible = val;\n",
       "            } );\n",
       "            gui.add( param, \"forces\" ).onChange( function ( val ) {\n",
       "                force_lines.visible = val;\n",
       "                force_points.visible = val;\n",
       "            } );\n",
       "    \n",
       "            gui.add( param, \"force scale\", 1, 8, 0.1 ).onChange( function ( val ) {\n",
       "                var position = [];\n",
       "                var force_tips = [];\n",
       "    \n",
       "                for(var i=0; i < U.length/3; i++) {\n",
       "                    f_abs = Math.sqrt(F[i * 3 + 0] ** 2 + F[i * 3 + 1] ** 2 + F[i * 3 + 2] ** 2);\n",
       "                    factor = factor_force * factor_mesh * val;//1/f_abs/3000 * f_abs * 100000;\n",
       "                    for (var x = 0; x < 3; x++)\n",
       "                        position.push((points[i * 3 + x]));\n",
       "                    for (var x = 0; x < 3; x++) {\n",
       "                        position.push(points[i * 3 + x] + F[i * 3 + x] * factor);\n",
       "                        force_tips.push(points[i * 3 + x] + F[i * 3 + x] * factor);\n",
       "                    }\n",
       "                }\n",
       "                force_lines.geometry.addAttribute( \"position\", new THREE.Float32BufferAttribute( position, 3 ) );\n",
       "                force_points.geometry.addAttribute( \"position\", new THREE.Float32BufferAttribute( force_tips, 3 ) );\n",
       "            } );\n",
       "    \n",
       "            gui.add( param, \"displacements\" ).onChange( function ( val ) {\n",
       "                displacement_lines.visible = val;\n",
       "                displacement_points.visible = val;\n",
       "            } );\n",
       "    \n",
       "            gui.add( param, \"view_range\", 10, 300, 1 ).onChange( function ( val ) {\n",
       "                scene.fog.far = val;\n",
       "            } );\n",
       "        }\n",
       "    \n",
       "    </script>\n",
       "    ' scrolling=no style='border:none; width: 100%; height: 600px'></iframe>"
      ],
      "text/plain": [
       "<IPython.core.display.HTML object>"
      ]
     },
     "metadata": {},
     "output_type": "display_data"
    }
   ],
   "source": [
    "# visualize the meshes\n",
    "M.viewMesh(50, 0.1)"
   ]
  },
  {
   "cell_type": "code",
   "execution_count": 20,
   "metadata": {},
   "outputs": [
    {
     "name": "stdout",
     "output_type": "stream",
     "text": [
      "updating forces and stiffness matrix 0%\r",
      "updating forces and stiffness matrix finished 0.00s\n"
     ]
    },
    {
     "data": {
      "text/plain": [
       "array([[ 36.13 ,   6.794,   6.76 ],\n",
       "       [ 18.065,  -3.397,   3.38 ],\n",
       "       [-36.13 ,  -6.794,   6.76 ],\n",
       "       [-18.065,   3.397,   3.38 ],\n",
       "       [ 18.065,   3.397,  -3.38 ],\n",
       "       [-36.13 ,   6.794,  -6.76 ],\n",
       "       [-18.065,  -3.397,  -3.38 ],\n",
       "       [ 36.13 ,  -6.794,  -6.76 ]])"
      ]
     },
     "execution_count": 20,
     "metadata": {},
     "output_type": "execute_result"
    }
   ],
   "source": [
    "M._check_relax_ready()\n",
    "\n",
    "# the displacements of the nodes which shall be fitted\n",
    "# during the solving\n",
    "U = np.array([[0   , 0, 0],  # 0\n",
    "              [0   , 0, 0],  # 1\n",
    "              [0.1, 0, 0],  # 2\n",
    "              [0.1, 0, 0],  # 3\n",
    "              [0   , 0, 0],  # 4\n",
    "              [0.1, 0, 0],  # 5\n",
    "              [0.1, 0, 0],  # 6\n",
    "              [0   , 0, 0]]) # 7\n",
    "M.U = U\n",
    "\n",
    "M._prepare_temporary_quantities()\n",
    "M._updateGloFAndK()\n",
    "M.f"
   ]
  },
  {
   "cell_type": "code",
   "execution_count": 21,
   "metadata": {},
   "outputs": [
    {
     "data": {
      "text/html": [
       "<h1></h1><iframe srcdoc='\n",
       "    <!--<div id=\"info\"><a href=\"http://threejs.org\" target=\"_blank\" rel=\"noopener\">three.js</a> - dashed lines example</div>-->\n",
       "    <div id=\"container\"></div>\n",
       "    \n",
       "    <script src=\"https://threejs.org/build/three.js\"></script>\n",
       "    \n",
       "    <script src=\"https://threejs.org/examples/js/WebGL.js\"></script>\n",
       "    <script src=\"https://threejs.org/examples/js/libs/stats.min.js\"></script>\n",
       "    <script src=\"https://threejs.org/examples/js/libs/dat.gui.min.js\"></script>\n",
       "    \n",
       "    <script src=\"https://threejs.org/examples/js/controls/OrbitControls.js\"></script>\n",
       "    \n",
       "    <style>\n",
       "    \n",
       "    .dg li {\n",
       "        background: #f7f7f7 !important;\n",
       "    }\n",
       "    .dg {\n",
       "       color: #111;\n",
       "       text-shadow: none;\n",
       "    }\n",
       "    .dg.main .close-button {\n",
       "        background: none;\n",
       "    }\n",
       "    .dg.main .close-button:hover {\n",
       "       background: none;\n",
       "    }\n",
       "    .dg .cr.boolean {\n",
       "        border-left: 1px solid #cfcfcf;\n",
       "    }\n",
       "    .dg .cr.number {\n",
       "        border-left: 1px solid #cfcfcf;\n",
       "    }\n",
       "    .dg .c input[type=text] {\n",
       "        background: #fffefe00;\n",
       "        outline: none;\n",
       "        color: #111 !important;\n",
       "    }\n",
       "    .dg .c input[type=text]:hover {\n",
       "        background: #fffefe00;\n",
       "        outline: none;\n",
       "        color: #111 !important;\n",
       "    }\n",
       "    .dg .c .slider {\n",
       "        background: #d6d6d6;\n",
       "        cursor: ew-resize;\n",
       "        border-radius: 5px;\n",
       "    }\n",
       "    .dg .c .slider:hover {\n",
       "        background: #d6d6d6;\n",
       "    }\n",
       "    .dg .c .slider-fg {\n",
       "        background: #747575;\n",
       "        border-radius: 5px;\n",
       "    }\n",
       "    .dg .c .slider:hover .slider-fg {\n",
       "       background: #42a5f5;\n",
       "    }\n",
       "    .dg li:not(.folder) {\n",
       "        border: 1px solid #cfcfcf;\n",
       "        border-radius: 2px;\n",
       "    }\n",
       "    \n",
       "    </style>\n",
       "    \n",
       "    <script>\n",
       "    \n",
       "    function NewArray(type, base64) {\n",
       "        var binary_string =  window.atob(base64);\n",
       "        var len = binary_string.length;\n",
       "        var bytes = new Uint8Array( len );\n",
       "        for (var i = 0; i < len; i++)        {\n",
       "            bytes[i] = binary_string.charCodeAt(i);\n",
       "        }\n",
       "        return new type(bytes.buffer);\n",
       "    }\n",
       "    \n",
       "        if ( WEBGL.isWebGLAvailable() === false ) {\n",
       "            document.body.appendChild( WEBGL.getWebGLErrorMessage() );\n",
       "        }\n",
       "    \n",
       "        var renderer, scene, camera, stats, controls;\n",
       "        var objects = [];\n",
       "        var gui;\n",
       "    \n",
       "        factor_mesh = 50.000000;\n",
       "        factor_force = 0.100000;\n",
       "    \n",
       "        var WIDTH = window.innerWidth, HEIGHT = window.innerHeight;\n",
       "    \n",
       "        init();\n",
       "        animate();\n",
       "    \n",
       "        function init() {\n",
       "    \n",
       "            camera = new THREE.PerspectiveCamera( 60, WIDTH / HEIGHT, 1, 200 );\n",
       "            camera.position.z = 150;\n",
       "    \n",
       "            scene = new THREE.Scene();\n",
       "            scene.background = new THREE.Color( 0xFFFFFF);//0x111111 );\n",
       "            scene.fog = new THREE.Fog( 0xFFFFFF, 50, 200);\n",
       "    \n",
       "            renderer = new THREE.WebGLRenderer( { antialias: true } );\n",
       "            renderer.setPixelRatio( window.devicePixelRatio );\n",
       "            renderer.setSize( WIDTH, HEIGHT );\n",
       "    \n",
       "            var container = document.getElementById( \"container\" );\n",
       "            container.appendChild( renderer.domElement );\n",
       "    \n",
       "            //stats = new Stats();\n",
       "            //container.appendChild( stats.dom );\n",
       "    \n",
       "            //\n",
       "            addMesh(NewArray(Float64Array, \"AAAAAAAA4L8AAAAAAADgvwAAAAAAAOC/AAAAAAAA4L8AAAAAAADgPwAAAAAAAOC/AAAAAAAA4D8AAAAAAADgPwAAAAAAAOC/AAAAAAAA4D8AAAAAAADgvwAAAAAAAOC/AAAAAAAA4L8AAAAAAADgvwAAAAAAAOA/AAAAAAAA4D8AAAAAAADgvwAAAAAAAOA/AAAAAAAA4D8AAAAAAADgPwAAAAAAAOA/AAAAAAAA4L8AAAAAAADgPwAAAAAAAOA/\"), NewArray(Int32Array, \"AAAAAAEAAAAHAAAAAgAAAAAAAAACAAAABQAAAAMAAAAAAAAABAAAAAUAAAAHAAAAAgAAAAUAAAAGAAAABwAAAAAAAAAHAAAABQAAAAIAAAA=\"), NewArray(Float64Array, \"QoAiL64QQkANrt5FvSwbQAjchCmtChtAQ4AiL64QMkAMrt5FvSwLwATchCmtCgtAQoAiL64QQsAOrt5FvSwbwAbchCmtChtAQ4AiL64QMsALrt5FvSwLQP/bhCmtCgtAQ4AiL64QMkAOrt5FvSwLQALchCmtCgvAQoAiL64QQsAOrt5FvSwbQAjchCmtChvAQoAiL64QMsAOrt5FvSwLwATchCmtCgvAQoAiL64QQkAMrt5FvSwbwATchCmtChvA\"), NewArray(Float64Array, \"AAAAAAAAAAAAAAAAAAAAAAAAAAAAAAAAAAAAAAAAAAAAAAAAAAAAAAAAAAAAAAAAmpmZmZmZuT8AAAAAAAAAAAAAAAAAAAAAmpmZmZmZuT8AAAAAAAAAAAAAAAAAAAAAAAAAAAAAAAAAAAAAAAAAAAAAAAAAAAAAmpmZmZmZuT8AAAAAAAAAAAAAAAAAAAAAmpmZmZmZuT8AAAAAAAAAAAAAAAAAAAAAAAAAAAAAAAAAAAAAAAAAAAAAAAAAAAAA\"))\n",
       "            window.addEventListener( \"resize\", onWindowResize, false );\n",
       "    \n",
       "            controls = new THREE.OrbitControls( camera, renderer.domElement );\n",
       "            //controls.minDistance = 10;\n",
       "            //controls.maxDistance = 500;\n",
       "            initGui();\n",
       "    \n",
       "        }\n",
       "    \n",
       "    \n",
       "        function addMesh(points1, tets1, F1, U1) {\n",
       "            points = points1;\n",
       "            tets = tets1;\n",
       "            F = F1;\n",
       "            U = U1;\n",
       "    \n",
       "            for(var i=0; i < points.length; i++) {\n",
       "                points[i] *= factor_mesh;\n",
       "                U[i] *= factor_mesh;\n",
       "            }\n",
       "    \n",
       "            //var h = size * 0.5;\n",
       "    \n",
       "            var geometry = new THREE.BufferGeometry();\n",
       "            var position = [];\n",
       "            console.log(points.length, tets.length);\n",
       "    \n",
       "            connections = [];\n",
       "    \n",
       "            for(var t=0; t < tets.length/4; t++) {\n",
       "                for(var i=0; i < 4; i++) {\n",
       "                    for(var j=0; j < 4; j++) {\n",
       "                        var t1 = tets[t*4+i];\n",
       "                        var t2 = tets[t*4+j];\n",
       "                        if(t1 >= t2)\n",
       "                            continue;\n",
       "                        found = false;\n",
       "                        for(var c=0; c < connections.length; c++) {\n",
       "                            if(connections[c][0] == t1 && connections[c][1] == t2) {\n",
       "                                found = true;\n",
       "                                break;\n",
       "                            }\n",
       "    \n",
       "                        }\n",
       "                        if(found)\n",
       "                            continue;\n",
       "                        connections.push([t1, t2]);\n",
       "                        for(var x=0; x < 3; x++)\n",
       "                            position.push(points[t1*3+x]);\n",
       "                        for(var x=0; x < 3; x++)\n",
       "                            position.push(points[t2*3+x]);\n",
       "                    }\n",
       "                }\n",
       "                //console.log(t);\n",
       "            }\n",
       "            console.log(\"ready\");\n",
       "    \n",
       "            geometry.addAttribute( \"position\", new THREE.Float32BufferAttribute( position, 3 ) );\n",
       "    \n",
       "            //var geometryCube = cube( 50 );\n",
       "    \n",
       "            //var lineSegments = new THREE.LineSegments( geometry, new THREE.LineDashedMaterial( { color: 0xffaa00, dashSize: 3, gapSize: 1 } ) );\n",
       "            mesh_lines = new THREE.LineSegments( geometry, new THREE.LineBasicMaterial( { color: 0xffaa00, linewidth: 0.5, transparent: true, opacity: 0.5} ) );\n",
       "            mesh_lines.computeLineDistances();\n",
       "    \n",
       "            objects.push( mesh_lines );\n",
       "            scene.add( mesh_lines );\n",
       "    \n",
       "            var geometry = new THREE.BufferGeometry();\n",
       "            var position = [];\n",
       "            var force_tips = [];\n",
       "    \n",
       "            for(var i=0; i < U.length/3; i++) {\n",
       "                f_abs = Math.sqrt(F[i*3+0]**2 + F[i*3+1]**2 + F[i*3+2]**2);\n",
       "                factor = factor_force*factor_mesh;//1/f_abs/3000 * f_abs * 100000;\n",
       "                for(var x=0; x < 3; x++)\n",
       "                    position.push((points[i*3+x]));\n",
       "                for(var x=0; x < 3; x++) {\n",
       "                    position.push(points[i * 3 + x] + F[i * 3 + x] * factor);\n",
       "                    force_tips.push(points[i * 3 + x] + F[i * 3 + x] * factor);\n",
       "                }\n",
       "            }\n",
       "    \n",
       "            geometry.addAttribute( \"position\", new THREE.Float32BufferAttribute( position, 3 ) );\n",
       "    \n",
       "            force_mat = new THREE.LineBasicMaterial( { color: 0xaa0000, linewidth: 3,} );\n",
       "            force_lines = new THREE.LineSegments( geometry, force_mat );\n",
       "            force_lines.computeLineDistances();\n",
       "    \n",
       "            objects.push( force_lines );\n",
       "            scene.add( force_lines );\n",
       "    \n",
       "            var sprite = new THREE.TextureLoader().load( \"https://threejs.org/examples/textures/sprites/disc.png\" );\n",
       "    \n",
       "            var geometry = new THREE.BufferGeometry();\n",
       "            geometry.addAttribute( \"position\", new THREE.Float32BufferAttribute( points, 3 ) );\n",
       "            mesh_points = new THREE.Points( geometry, new THREE.PointsMaterial( { size: 8, sizeAttenuation: false, color: 0xffaa00, map: sprite, alphaTest: 0.5, transparent: true } ) );\n",
       "            scene.add( mesh_points );\n",
       "    \n",
       "            var geometry = new THREE.BufferGeometry();\n",
       "            geometry.addAttribute( \"position\", new THREE.Float32BufferAttribute( force_tips, 3 ) );\n",
       "            force_points = new THREE.Points( geometry, new THREE.PointsMaterial( { size: 10, sizeAttenuation: false, color: 0xaa0000, map: sprite, alphaTest: 0.5, transparent: true } ) );\n",
       "            scene.add( force_points );\n",
       "    \n",
       "            // Displacements\n",
       "    \n",
       "            var geometry = new THREE.BufferGeometry();\n",
       "            var position = [];\n",
       "            var displacement_tips = [];\n",
       "    \n",
       "            for(var i=0; i < U.length/3; i++) {\n",
       "                for(var x=0; x < 3; x++)\n",
       "                    position.push((points[i*3+x]));\n",
       "                for(var x=0; x < 3; x++) {\n",
       "                    position.push(points[i * 3 + x] + U[i * 3 + x]);\n",
       "                    displacement_tips.push(points[i * 3 + x] + U[i * 3 + x]);\n",
       "                }\n",
       "            }\n",
       "    \n",
       "            geometry.addAttribute( \"position\", new THREE.Float32BufferAttribute( position, 3 ) );\n",
       "            displacement_mat = new THREE.LineBasicMaterial( { color: 0x00aa00, linewidth: 2,} );\n",
       "            displacement_lines = new THREE.LineSegments( geometry, displacement_mat );\n",
       "            displacement_lines.computeLineDistances();\n",
       "    \n",
       "            objects.push( displacement_lines );\n",
       "            scene.add( displacement_lines );\n",
       "    \n",
       "            var geometry = new THREE.BufferGeometry();\n",
       "            geometry.addAttribute( \"position\", new THREE.Float32BufferAttribute( displacement_tips, 3 ) );\n",
       "            displacement_points = new THREE.Points( geometry, new THREE.PointsMaterial( { size: 10, sizeAttenuation: false, color: 0x00aa00, map: sprite, alphaTest: 0.5, transparent: true } ) );\n",
       "            scene.add( displacement_points );\n",
       "        }\n",
       "    \n",
       "        function onWindowResize() {\n",
       "            camera.aspect = window.innerWidth / window.innerHeight;\n",
       "            camera.updateProjectionMatrix();\n",
       "            renderer.setSize( window.innerWidth, window.innerHeight );\n",
       "        }\n",
       "    \n",
       "        function animate() {\n",
       "            requestAnimationFrame( animate );\n",
       "    \n",
       "            render();\n",
       "            renderer.render( scene, camera );\n",
       "            //stats.update();\n",
       "    \n",
       "        }\n",
       "    \n",
       "        function render() {\n",
       "    \n",
       "            var time = Date.now() * 0.001;\n",
       "    \n",
       "            scene.traverse( function ( object ) {\n",
       "    \n",
       "                //if ( object.isLine ) {\n",
       "    \n",
       "                    //object.rotation.y = 0.25 * time;\n",
       "                    //object.rotation.y = 0.25 * time;\n",
       "    \n",
       "                //}\n",
       "    \n",
       "            } );\n",
       "    \n",
       "            renderer.render( scene, camera );\n",
       "    \n",
       "        }\n",
       "    \n",
       "        function initGui() {\n",
       "            gui = new dat.GUI();\n",
       "            var param = {\n",
       "                \"mesh\": true,\n",
       "                \"forces\": true,\n",
       "                \"force scale\": 1,\n",
       "                \"displacements\": true,\n",
       "                \"view_range\" : 200,\n",
       "            };\n",
       "            gui.add( param, \"mesh\" ).onChange( function ( val ) {\n",
       "                mesh_lines.visible = val;\n",
       "                mesh_points.visible = val;\n",
       "            } );\n",
       "            gui.add( param, \"forces\" ).onChange( function ( val ) {\n",
       "                force_lines.visible = val;\n",
       "                force_points.visible = val;\n",
       "            } );\n",
       "    \n",
       "            gui.add( param, \"force scale\", 1, 8, 0.1 ).onChange( function ( val ) {\n",
       "                var position = [];\n",
       "                var force_tips = [];\n",
       "    \n",
       "                for(var i=0; i < U.length/3; i++) {\n",
       "                    f_abs = Math.sqrt(F[i * 3 + 0] ** 2 + F[i * 3 + 1] ** 2 + F[i * 3 + 2] ** 2);\n",
       "                    factor = factor_force * factor_mesh * val;//1/f_abs/3000 * f_abs * 100000;\n",
       "                    for (var x = 0; x < 3; x++)\n",
       "                        position.push((points[i * 3 + x]));\n",
       "                    for (var x = 0; x < 3; x++) {\n",
       "                        position.push(points[i * 3 + x] + F[i * 3 + x] * factor);\n",
       "                        force_tips.push(points[i * 3 + x] + F[i * 3 + x] * factor);\n",
       "                    }\n",
       "                }\n",
       "                force_lines.geometry.addAttribute( \"position\", new THREE.Float32BufferAttribute( position, 3 ) );\n",
       "                force_points.geometry.addAttribute( \"position\", new THREE.Float32BufferAttribute( force_tips, 3 ) );\n",
       "            } );\n",
       "    \n",
       "            gui.add( param, \"displacements\" ).onChange( function ( val ) {\n",
       "                displacement_lines.visible = val;\n",
       "                displacement_points.visible = val;\n",
       "            } );\n",
       "    \n",
       "            gui.add( param, \"view_range\", 10, 300, 1 ).onChange( function ( val ) {\n",
       "                scene.fog.far = val;\n",
       "            } );\n",
       "        }\n",
       "    \n",
       "    </script>\n",
       "    ' scrolling=no style='border:none; width: 100%; height: 600px'></iframe>"
      ],
      "text/plain": [
       "<IPython.core.display.HTML object>"
      ]
     },
     "metadata": {},
     "output_type": "display_data"
    }
   ],
   "source": [
    "# visualize the meshes\n",
    "M.viewMesh(50, 0.1)"
   ]
  },
  {
   "cell_type": "code",
   "execution_count": null,
   "metadata": {},
   "outputs": [],
   "source": []
  }
 ],
 "metadata": {
  "celltoolbar": "Raw Cell Format",
  "kernelspec": {
   "display_name": "Python 3",
   "language": "python",
   "name": "python3"
  },
  "language_info": {
   "codemirror_mode": {
    "name": "ipython",
    "version": 3
   },
   "file_extension": ".py",
   "mimetype": "text/x-python",
   "name": "python",
   "nbconvert_exporter": "python",
   "pygments_lexer": "ipython3",
   "version": "3.7.1"
  },
  "pycharm": {
   "stem_cell": {
    "cell_type": "raw",
    "source": [],
    "metadata": {
     "collapsed": false
    }
   }
  }
 },
 "nbformat": 4,
 "nbformat_minor": 1
}