{
 "cells": [
  {
   "cell_type": "markdown",
   "metadata": {},
   "source": [
    "# Regularisation Mode"
   ]
  },
  {
   "cell_type": "raw",
   "metadata": {
    "raw_mimetype": "text/restructuredtext"
   },
   "source": [
    "This example will explain the basic usage of a regularisation with saeno. The code can be downloaded at `relaxation.py <https://bitbucket.org/fabry_biophysics/saeno/src/default/docs/regularization.py>`_.\n",
    "\n",
    "Import the FiniteBodyForces class."
   ]
  },
  {
   "cell_type": "code",
   "execution_count": 1,
   "metadata": {},
   "outputs": [],
   "source": [
    "from saeno.FiniteBodyForces import FiniteBodyForces\n",
    "    \n",
    "# initialize the object\n",
    "M = FiniteBodyForces()"
   ]
  },
  {
   "cell_type": "markdown",
   "metadata": {
    "raw_mimetype": "text/restructuredtext"
   },
   "source": [
    "Set the material model:"
   ]
  },
  {
   "cell_type": "code",
   "execution_count": 2,
   "metadata": {},
   "outputs": [],
   "source": [
    "from saeno.materials import semiAffineFiberMaterial\n",
    "\n",
    "# provide a material model\n",
    "material = semiAffineFiberMaterial(1645, 0.0008, 0.0075, 0.033)\n",
    "M.setMaterialModel(material)"
   ]
  },
  {
   "cell_type": "markdown",
   "metadata": {
    "raw_mimetype": "text/restructuredtext"
   },
   "source": [
    "Load the mesh from files."
   ]
  },
  {
   "cell_type": "code",
   "execution_count": 3,
   "metadata": {},
   "outputs": [],
   "source": [
    "import numpy as np\n",
    "\n",
    "# define the coordinates of the nodes of the mesh\n",
    "# the array has to have the shape N_v x 3\n",
    "R = np.array([[0., 0., 0.],  # 0\n",
    "              [0., 1., 0.],  # 1\n",
    "              [1., 1., 0.],  # 2\n",
    "              [1., 0., 0.],  # 3\n",
    "              [0., 0., 1.],  # 4\n",
    "              [1., 0., 1.],  # 5\n",
    "              [1., 1., 1.],  # 6\n",
    "              [0., 1., 1.]]) # 7\n",
    "\n",
    "# define the tetrahedra of the mesh\n",
    "# the array has to have the shape N_t x 4\n",
    "# every entry is an index referencing a verces in R (indices start with 0)\n",
    "T = np.array([[0, 1, 7, 2],\n",
    "              [0, 2, 5, 3],\n",
    "              [0, 4, 5, 7],\n",
    "              [2, 5, 6, 7],\n",
    "              [0, 7, 5, 2]])"
   ]
  },
  {
   "cell_type": "markdown",
   "metadata": {
    "raw_mimetype": "text/markdown"
   },
   "source": [
    "And hand the data over to the FiniteBodyForces object."
   ]
  },
  {
   "cell_type": "code",
   "execution_count": 4,
   "metadata": {},
   "outputs": [],
   "source": [
    "# provide the node data\n",
    "M.setNodes(R)\n",
    "# and the tetrahedron data\n",
    "M.setTetrahedra(T)"
   ]
  },
  {
   "cell_type": "markdown",
   "metadata": {},
   "source": [
    "Now we have to specify which displacements to fit."
   ]
  },
  {
   "cell_type": "code",
   "execution_count": null,
   "metadata": {},
   "outputs": [],
   "source": [
    "# the displacements of the nodes which shall be fitted\n",
    "# if the node is fixed (e.g. not variable) than this displacement will be fixed\n",
    "# during the solving\n",
    "U = np.array([[ 0.  ,  0.  ,  0.  ],  # 0\n",
    "              [ 0.  ,  0.  ,  0.  ],  # 1\n",
    "              [-0.25,  0.  ,  0.  ],  # 2\n",
    "              [-0.25,  0.  ,  0.  ],  # 3\n",
    "              [ 0.  ,  0.  ,  0.  ],  # 4\n",
    "              [-0.25,  0.  ,  0.  ],  # 5\n",
    "              [-0.25,  0.  ,  0.  ],  # 6\n",
    "              [ 0.  ,  0.  ,  0.  ]]) # 7\n",
    "\n",
    "# whether to fit the displacement of this node\n",
    "#                     0      1      2      3      4      5      6      7\n",
    "vbead = np.array([ True,  True, False, False,  True, False, False,  True])\n",
    "\n",
    "# hand the displacements over to the class instance\n",
    "M.setFoundDisplacements(U, vbead)"
   ]
  },
  {
   "cell_type": "markdown",
   "metadata": {
    "raw_mimetype": "text/restructuredtext"
   },
   "source": [
    "Now we can start the regularisation process."
   ]
  },
  {
   "cell_type": "code",
   "execution_count": null,
   "metadata": {},
   "outputs": [
    {
     "name": "stdout",
     "output_type": "stream",
     "text": [
      "going to update glo f and K\n",
      "updating forces and stiffness matrix 0%\r"
     ]
    }
   ],
   "source": [
    "# relax the mesh and move the \"varible\" nodes\n",
    "M.regularize()"
   ]
  },
  {
   "cell_type": "markdown",
   "metadata": {},
   "source": [
    "Now we can optinally calculate some properties of the cell, e.g. its contractility and polarisation."
   ]
  },
  {
   "cell_type": "code",
   "execution_count": null,
   "metadata": {},
   "outputs": [],
   "source": [
    "results = M.computeForceMoments(rmax=100e-6)"
   ]
  },
  {
   "cell_type": "raw",
   "metadata": {
    "raw_mimetype": "text/restructuredtext"
   },
   "source": [
    "Finally, we can save the final status of the mesh."
   ]
  },
  {
   "cell_type": "code",
   "execution_count": null,
   "metadata": {},
   "outputs": [],
   "source": [
    "# store the forces of the nodes\n",
    "M.storeF(\"F.dat\")\n",
    "# store the positions and the displacements\n",
    "M.storeRAndU(\"R.dat\", \"U.dat\")\n",
    "# store the center of each tetrahedron and a combined list with energies and volumina of the tetrahedrons\n",
    "M.storeEandV(\"RR.dat\", \"EV.dat\")"
   ]
  }
 ],
 "metadata": {
  "celltoolbar": "Raw Cell Format",
  "kernelspec": {
   "display_name": "Python 3",
   "language": "python",
   "name": "python3"
  },
  "language_info": {
   "codemirror_mode": {
    "name": "ipython",
    "version": 3
   },
   "file_extension": ".py",
   "mimetype": "text/x-python",
   "name": "python",
   "nbconvert_exporter": "python",
   "pygments_lexer": "ipython3",
   "version": "3.7.1"
  }
 },
 "nbformat": 4,
 "nbformat_minor": 1
}
