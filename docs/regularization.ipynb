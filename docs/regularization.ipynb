{
 "cells": [
  {
   "cell_type": "markdown",
   "metadata": {},
   "source": [
    "# Regularization Mode"
   ]
  },
  {
   "cell_type": "raw",
   "metadata": {
    "raw_mimetype": "text/restructuredtext"
   },
   "source": [
    "Regularization mode solves the unconstrained problem of measured displacements, which should be fitted by deforming the mesh and therby generating forces. To avoid surrious forces all over the mesh, a regularization scheme is used to suppress \"noise\" forces."
   ]
  },
  {
   "cell_type": "markdown",
   "metadata": {},
   "source": [
    "## Theory"
   ]
  },
  {
   "cell_type": "raw",
   "metadata": {
    "raw_mimetype": "text/restructuredtext"
   },
   "source": [
    "The inverse problem, to fit forces for measured displacements is under determined. Therefore, a regularization scheme is needed, to circumvent this problem. The target function :math:`L(u)` is extended with a regularisation term :math:`|f(u)|^2_A`, the weighted sum over all forces (Thikonov regularization).\n",
    "\n",
    ".. math::\n",
    "    L(u) = | u - u_\\mathrm{measured}|^2 + |f(u)|^2_A\n",
    "    \n",
    "But if forces are penalized at every point of the volumne (if a constant factor :math:`A` would be used), cellular forces get underestimated because they are not distinguished from noise forces. Therefore a lower weight is assigned to nodes which obtained a high force in the iteration process (Huber, 2004).\n",
    "\n",
    ".. math::\n",
    "    A_{ii}(f_i) = \\begin{cases}\n",
    "      \\alpha, & \\text{if}\\ |f_i| < 1.345 \\cdot \\mathrm{median}(|f|) \\\\\n",
    "      \\alpha \\frac{1.345 \\cdot \\mathrm{median}(|f|)}{|f_i|}, & \\text{otherwise}\n",
    "    \\end{cases}\n",
    "\n",
    "This equation is solved if :math:`u` fulfills the following condition (which is a linear equation of the form :math:`A\\cdot x=b`):\n",
    "\n",
    ".. math::\n",
    "    \\underbrace{(\\mathbf{I} + \\mathbf{K}\\mathbf{A}\\mathbf{K})}_A \\cdot \\underbrace{\\Delta u}_x = \\underbrace{u_\\mathrm{measured} + \\mathbf{K}\\mathbf{A}f_u}_b\n",
    "    \n",
    "This linear equation is solved using conjugate gradient to obtain a value for :math:`\\Delta u`. A tiny fraction (`stepper`) of this is applied to the displacement :math:`U`. With the new displacement :math:`U`, stiffness matrix :math:`K_{ij}(U)`, the nodal forces :math:`F_i(U)` and the total energy :math:`E(U)` are updated. From these nodal forces the weight matrix :math:`A_{ii}(f_i)` is updated. And the linear equation is again solved for the new stiffness matrix :math:`K_{ij}(U)` and weight matrix :math:`A_{ii}(f_i)`.\n",
    "\n",
    "This procedure is iterated untill the energy :math:`E` of the system converges (the standerd deviation of :math:`E` divided by the mean of :math:`E` for the last 6 iterations is lower than the threshold `rel_conv_crit`) or the maximum number of iterations is reached (`i_max`)."
   ]
  },
  {
   "cell_type": "markdown",
   "metadata": {},
   "source": [
    "## Example"
   ]
  },
  {
   "cell_type": "raw",
   "metadata": {
    "raw_mimetype": "text/restructuredtext"
   },
   "source": [
    "This example will explain the basic usage of a regularisation with saeno.\n",
    "\n",
    "The code for this example can be downloaded at `regularization.py <https://bitbucket.org/fabry_biophysics/saeno/raw/tip/docs/regularization.py>`_."
   ]
  },
  {
   "cell_type": "raw",
   "metadata": {
    "raw_mimetype": "text/restructuredtext"
   },
   "source": [
    "First, import the FiniteBodyForces class."
   ]
  },
  {
   "cell_type": "code",
   "execution_count": 1,
   "metadata": {},
   "outputs": [],
   "source": [
    "from saeno import FiniteBodyForces\n",
    "    \n",
    "# initialize the object\n",
    "M = FiniteBodyForces()"
   ]
  },
  {
   "cell_type": "markdown",
   "metadata": {
    "raw_mimetype": "text/restructuredtext"
   },
   "source": [
    "Set the material model:"
   ]
  },
  {
   "cell_type": "code",
   "execution_count": 2,
   "metadata": {},
   "outputs": [],
   "source": [
    "from saeno.materials import SemiAffineFiberMaterial\n",
    "\n",
    "# provide a material model\n",
    "material = SemiAffineFiberMaterial(1645, 0.0008, 0.0075, 0.033)\n",
    "M.setMaterialModel(material)"
   ]
  },
  {
   "cell_type": "markdown",
   "metadata": {
    "raw_mimetype": "text/restructuredtext"
   },
   "source": [
    "Load the mesh from files."
   ]
  },
  {
   "cell_type": "code",
   "execution_count": 3,
   "metadata": {},
   "outputs": [],
   "source": [
    "import numpy as np\n",
    "\n",
    "# define the coordinates of the nodes of the mesh\n",
    "# the array has to have the shape N_v x 3\n",
    "R = np.array([[0., 0., 0.],  # 0\n",
    "              [0., 1., 0.],  # 1\n",
    "              [1., 1., 0.],  # 2\n",
    "              [1., 0., 0.],  # 3\n",
    "              [0., 0., 1.],  # 4\n",
    "              [1., 0., 1.],  # 5\n",
    "              [1., 1., 1.],  # 6\n",
    "              [0., 1., 1.]]) # 7\n",
    "\n",
    "# define the tetrahedra of the mesh\n",
    "# the array has to have the shape N_t x 4\n",
    "# every entry is an index referencing a verces in R (indices start with 0)\n",
    "T = np.array([[0, 1, 7, 2],\n",
    "              [0, 2, 5, 3],\n",
    "              [0, 4, 5, 7],\n",
    "              [2, 5, 6, 7],\n",
    "              [0, 7, 5, 2]])"
   ]
  },
  {
   "cell_type": "markdown",
   "metadata": {
    "raw_mimetype": "text/markdown"
   },
   "source": [
    "And hand the data over to the FiniteBodyForces object."
   ]
  },
  {
   "cell_type": "code",
   "execution_count": 4,
   "metadata": {},
   "outputs": [],
   "source": [
    "# provide the node data\n",
    "M.setNodes(R)\n",
    "# and the tetrahedron data\n",
    "M.setTetrahedra(T)"
   ]
  },
  {
   "cell_type": "markdown",
   "metadata": {},
   "source": [
    "Now we have to specify which displacements to fit."
   ]
  },
  {
   "cell_type": "code",
   "execution_count": 5,
   "metadata": {},
   "outputs": [],
   "source": [
    "# the displacements of the nodes which shall be fitted\n",
    "# during the solving\n",
    "U = np.array([[0   , 0, 0],  # 0\n",
    "              [0   , 0, 0],  # 1\n",
    "              [0.01, 0, 0],  # 2\n",
    "              [0.01, 0, 0],  # 3\n",
    "              [0   , 0, 0],  # 4\n",
    "              [0.01, 0, 0],  # 5\n",
    "              [0.01, 0, 0],  # 6\n",
    "              [0   , 0, 0]]) # 7\n",
    "\n",
    "# hand the displacements over to the class instance\n",
    "M.setTargetDisplacements(U)"
   ]
  },
  {
   "cell_type": "markdown",
   "metadata": {
    "raw_mimetype": "text/restructuredtext"
   },
   "source": [
    "Now we can start the regularisation process."
   ]
  },
  {
   "cell_type": "code",
   "execution_count": 6,
   "metadata": {},
   "outputs": [
    {
     "name": "stdout",
     "output_type": "stream",
     "text": [
      "going to update glo f and K\n",
      "updating forces and stiffness matrix finished 3.57s\n",
      "|u-uf|^2 = 0.0004 \t\tperbead= 0.005\n",
      "|w*f|^2  = 4.405430147324622e-28 \t\t|u|^2 = 0.0\n",
      "L = |u-uf|^2 + lambda*|w*f|^2 =  0.0004\n",
      "check before relax !\n",
      "total weight:  0.0 / 8\n",
      "updating forces and stiffness matrix finished 0.06s\n",
      "Round 1  |du|= 0.0005215094932618363\n",
      "|u-uf|^2 = 0.0003531282756934563 \t\tperbead= 0.00489013892067284\n",
      "|w*f|^2  = 0.0010996365051104385 \t\t|u|^2 = 2.1757772124977385e-06\n",
      "L = |u-uf|^2 + lambda*|w*f|^2 =  0.00035422791219856677\n",
      "total weight:  0.0 / 8\n",
      "updating forces and stiffness matrix finished 0.08s\n",
      "Round 2  |du|= 0.00046825541087788157\n",
      "|u-uf|^2 = 0.00031512129237042184 \t\tperbead= 0.004797556845255541\n",
      "|w*f|^2  = 0.003663715074098005 \t\t|u|^2 = 7.83671901007029e-06\n",
      "L = |u-uf|^2 + lambda*|w*f|^2 =  0.00031878500744451986\n",
      "total weight:  0.0 / 8\n",
      "updating forces and stiffness matrix finished 0.07s\n",
      "Round 3  |du|= 0.00042057632420637044\n",
      "|u-uf|^2 = 0.0002842840803025308 \t\tperbead= 0.004719449322628919\n",
      "|w*f|^2  = 0.00691486669770747 \t\t|u|^2 = 1.591072224701699e-05\n",
      "L = |u-uf|^2 + lambda*|w*f|^2 =  0.00029119894700023826\n",
      "total weight:  0.0 / 8\n",
      "updating forces and stiffness matrix finished 0.07s\n",
      "Round 4  |du|= 0.0003778554993988238\n",
      "|u-uf|^2 = 0.00025924982387480315 \t\tperbead= 0.004653482740547839\n",
      "|w*f|^2  = 0.010383214230227785 \t\t|u|^2 = 2.5576259171002246e-05\n",
      "L = |u-uf|^2 + lambda*|w*f|^2 =  0.00026963303810503093\n",
      "total weight:  0.0 / 8\n",
      "updating forces and stiffness matrix finished 0.06s\n",
      "Round 5  |du|= 0.000339552596177315\n",
      "|u-uf|^2 = 0.00023891524076373753 \t\tperbead= 0.004597712501647848\n",
      "|w*f|^2  = 0.013795157701898032 \t\t|u|^2 = 3.620828271599938e-05\n",
      "L = |u-uf|^2 + lambda*|w*f|^2 =  0.00025271039846563555\n",
      "total weight:  0.0 / 8\n",
      "updating forces and stiffness matrix finished 0.06s\n",
      "Round 6  |du|= 0.00030519207696918014\n",
      "|u-uf|^2 = 0.00022238901576524228 \t\tperbead= 0.004550515788530214\n",
      "|w*f|^2  = 0.01700097671651036 \t\t|u|^2 = 4.733562367264873e-05\n",
      "L = |u-uf|^2 + lambda*|w*f|^2 =  0.00023938999248175263\n",
      "total weight:  0.0 / 8\n",
      "updating forces and stiffness matrix finished 0.07s\n",
      "Round 7  |du|= 0.00027435402093307676\n",
      "|u-uf|^2 = 0.00020895054170212636 \t\tperbead= 0.0045105362806521915\n",
      "|w*f|^2  = 0.01992791729809578 \t\t|u|^2 = 5.860739157654186e-05\n",
      "L = |u-uf|^2 + lambda*|w*f|^2 =  0.00022887845900022215\n",
      "total weight:  0.0 / 8\n",
      "updating forces and stiffness matrix finished 0.06s\n",
      "Round 8  |du|= 0.0002466666135196492\n",
      "|u-uf|^2 = 0.00019801684188080912 \t\tperbead= 0.004476638688668543\n",
      "|w*f|^2  = 0.02254996686468313 \t\t|u|^2 = 6.976645816282782e-05\n",
      "L = |u-uf|^2 + lambda*|w*f|^2 =  0.00022056680874549224\n",
      "total weight:  0.0 / 8\n",
      "updating forces and stiffness matrix finished 0.06s\n",
      "Round 9  |du|= 0.00022179974856513778\n",
      "|u-uf|^2 = 0.000189116001370309 \t\tperbead= 0.004447871318456166\n",
      "|w*f|^2  = 0.0248685448466405 \t\t|u|^2 = 8.062851999967714e-05\n",
      "L = |u-uf|^2 + lambda*|w*f|^2 =  0.0002139845462169495\n",
      "total weight:  0.0 / 8\n",
      "updating forces and stiffness matrix finished 0.06s\n",
      "Round 10  |du|= 0.00019945988431193442\n",
      "|u-uf|^2 = 0.00018186580141914775 \t\tperbead= 0.00442343527316993\n",
      "|w*f|^2  = 0.026900279466403776 \t\t|u|^2 = 9.106557987015345e-05\n",
      "L = |u-uf|^2 + lambda*|w*f|^2 =  0.00020876608088555153\n",
      "total weight:  0.0 / 8\n",
      "updating forces and stiffness matrix finished 0.06s\n",
      "Round 11  |du|= 0.00017938541548541745\n",
      "|u-uf|^2 = 0.00017595651410179833 \t\tperbead= 0.004402659033237734\n",
      "|w*f|^2  = 0.02866940135950545 \t\t|u|^2 = 0.00010099291462309206\n",
      "L = |u-uf|^2 + lambda*|w*f|^2 =  0.00020462591546130377\n",
      "total weight:  0.0 / 8\n",
      "updating forces and stiffness matrix finished 0.06s\n",
      "Round 12  |du|= 0.0001613430432362023\n",
      "|u-uf|^2 = 0.0001711370415411673 \t\tperbead= 0.00438497754780129\n",
      "|w*f|^2  = 0.030203076468702413 \t\t|u|^2 = 0.00011035882100614788\n",
      "L = |u-uf|^2 + lambda*|w*f|^2 =  0.0002013401180098697\n",
      "total weight:  0.0 / 8\n",
      "updating forces and stiffness matrix finished 0.07s\n",
      "Round 13  |du|= 0.00014512427747124916\n",
      "|u-uf|^2 = 0.000167203723850868 \t\tperbead= 0.004369914843849766\n",
      "|w*f|^2  = 0.03152867407962691 \t\t|u|^2 = 0.00011913654606600808\n",
      "L = |u-uf|^2 + lambda*|w*f|^2 =  0.0001987323979304949\n",
      "total weight:  0.0 / 8\n",
      "updating forces and stiffness matrix finished 0.06s\n",
      "Round 14  |du|= 0.00013054273558343188\n",
      "|u-uf|^2 = 0.0001639913103490275 \t\tperbead= 0.004357069676253169\n",
      "|w*f|^2  = 0.03267221861421148 \t\t|u|^2 = 0.00012731796629729413\n",
      "L = |u-uf|^2 + lambda*|w*f|^2 =  0.00019666352896323898\n",
      "total weight:  0.0 / 8\n",
      "updating forces and stiffness matrix finished 0.06s\n",
      "Round 15  |du|= 0.00011743150196183296\n",
      "|u-uf|^2 = 0.00016136565876310677 \t\tperbead= 0.004346103517189919\n",
      "|w*f|^2  = 0.0336576136119038 \t\t|u|^2 = 0.0001349086381980254\n",
      "L = |u-uf|^2 + lambda*|w*f|^2 =  0.00019502327237501057\n",
      "total weight:  0.0 / 8\n",
      "updating forces and stiffness matrix finished 0.07s\n",
      "Round 16  |du|= 0.00010564107185372414\n",
      "|u-uf|^2 = 0.0001592178342210028 \t\tperbead= 0.004336730594196945\n",
      "|w*f|^2  = 0.03450631731905677 \t\t|u|^2 = 0.00014192394893910561\n",
      "L = |u-uf|^2 + lambda*|w*f|^2 =  0.00019372415154005957\n",
      "total weight:  0.0 / 8\n",
      "updating forces and stiffness matrix finished 0.06s\n",
      "Round 17  |du|= 9.503750142376756e-05\n",
      "|u-uf|^2 = 0.00015745934183910995 \t\tperbead= 0.004328709602928549\n",
      "|w*f|^2  = 0.03523727948045231 \t\t|u|^2 = 0.00014838613748296297\n",
      "L = |u-uf|^2 + lambda*|w*f|^2 =  0.00019269662131956227\n"
     ]
    },
    {
     "data": {
      "text/plain": [
       "[(0.0004, 0.0004, 4.405430147324622e-28),\n",
       " (0.00035422791219856677, 0.0003531282756934563, 0.0010996365051104385),\n",
       " (0.00031878500744451986, 0.00031512129237042184, 0.003663715074098005),\n",
       " (0.00029119894700023826, 0.0002842840803025308, 0.00691486669770747),\n",
       " (0.00026963303810503093, 0.00025924982387480315, 0.010383214230227785),\n",
       " (0.00025271039846563555, 0.00023891524076373753, 0.013795157701898032),\n",
       " (0.00023938999248175263, 0.00022238901576524228, 0.01700097671651036),\n",
       " (0.00022887845900022215, 0.00020895054170212636, 0.01992791729809578),\n",
       " (0.00022056680874549224, 0.00019801684188080912, 0.02254996686468313),\n",
       " (0.0002139845462169495, 0.000189116001370309, 0.0248685448466405),\n",
       " (0.00020876608088555153, 0.00018186580141914775, 0.026900279466403776),\n",
       " (0.00020462591546130377, 0.00017595651410179833, 0.02866940135950545),\n",
       " (0.0002013401180098697, 0.0001711370415411673, 0.030203076468702413),\n",
       " (0.0001987323979304949, 0.000167203723850868, 0.03152867407962691),\n",
       " (0.00019666352896323898, 0.0001639913103490275, 0.03267221861421148),\n",
       " (0.00019502327237501057, 0.00016136565876310677, 0.0336576136119038),\n",
       " (0.00019372415154005957, 0.0001592178342210028, 0.03450631731905677),\n",
       " (0.00019269662131956227, 0.00015745934183910995, 0.03523727948045231)]"
      ]
     },
     "execution_count": 6,
     "metadata": {},
     "output_type": "execute_result"
    }
   ],
   "source": [
    "# relax the mesh and move the \"varible\" nodes\n",
    "M.regularize(stepper=0.1, alpha=0.001)"
   ]
  },
  {
   "cell_type": "markdown",
   "metadata": {},
   "source": [
    "Now we can optinally calculate some properties of the cell, e.g. its contractility and polarisation."
   ]
  },
  {
   "cell_type": "code",
   "execution_count": 7,
   "metadata": {},
   "outputs": [
    {
     "name": "stderr",
     "output_type": "stream",
     "text": [
      "d:\\repositories\\saeno_py\\saeno\\FiniteBodyForces.py:772: RuntimeWarning: invalid value encountered in true_divide\n",
      "  contractility = np.sum(np.einsum(\"ki,ki->k\", RR, f) / np.linalg.norm(RR, axis=1))\n",
      "d:\\repositories\\saeno_py\\saeno\\FiniteBodyForces.py:778: RuntimeWarning: invalid value encountered in true_divide\n",
      "  eR = RR / np.linalg.norm(RR, axis=1)[:, None]\n",
      "d:\\repositories\\saeno_py\\saeno\\FiniteBodyForces.py:795: RuntimeWarning: invalid value encountered in true_divide\n",
      "  vmid = vmid / np.linalg.norm(vmid)\n"
     ]
    }
   ],
   "source": [
    "results = M.computeForceMoments(rmax=100e-6)"
   ]
  },
  {
   "cell_type": "raw",
   "metadata": {
    "raw_mimetype": "text/restructuredtext"
   },
   "source": [
    "Finally, we can save the final status of the mesh."
   ]
  },
  {
   "cell_type": "code",
   "execution_count": 8,
   "metadata": {},
   "outputs": [
    {
     "name": "stdout",
     "output_type": "stream",
     "text": [
      "F.dat stored.\n",
      "R.dat stored.\n",
      "U.dat stored.\n",
      "RR.dat stored.\n",
      "EV.dat stored.\n"
     ]
    }
   ],
   "source": [
    "# store the forces of the nodes\n",
    "M.storeF(\"F.dat\")\n",
    "# store the positions and the displacements\n",
    "M.storeRAndU(\"R.dat\", \"U.dat\")\n",
    "# store the center of each tetrahedron and a combined list with energies and volumina of the tetrahedrons\n",
    "M.storeEandV(\"RR.dat\", \"EV.dat\")"
   ]
  },
  {
   "cell_type": "code",
   "execution_count": 9,
   "metadata": {},
   "outputs": [
    {
     "data": {
      "text/plain": [
       "array([[ 4.01026265e-03,  7.91968666e-05,  7.90874559e-05],\n",
       "       [ 2.88113112e-03, -5.89581479e-04,  5.89400217e-04],\n",
       "       [ 4.32201918e-03, -7.91968666e-05,  7.90874559e-05],\n",
       "       [ 5.45115071e-03,  5.89581479e-04,  5.89400217e-04],\n",
       "       [ 2.88113112e-03,  5.89581479e-04, -5.89400217e-04],\n",
       "       [ 4.32201918e-03,  7.91968666e-05, -7.90874559e-05],\n",
       "       [ 5.45115071e-03, -5.89581479e-04, -5.89400217e-04],\n",
       "       [ 4.01026265e-03, -7.91968666e-05, -7.90874559e-05]])"
      ]
     },
     "execution_count": 9,
     "metadata": {},
     "output_type": "execute_result"
    }
   ],
   "source": [
    "M.U\n",
    "#M._updateGloFAndK()"
   ]
  },
  {
   "cell_type": "code",
   "execution_count": 10,
   "metadata": {},
   "outputs": [
    {
     "data": {
      "text/html": [
       "<h1></h1><iframe srcdoc='\n",
       "    <!--<div id=\"info\"><a href=\"http://threejs.org\" target=\"_blank\" rel=\"noopener\">three.js</a> - dashed lines example</div>-->\n",
       "    <div id=\"container\"></div>\n",
       "    \n",
       "    <script src=\"https://threejs.org/build/three.js\"></script>\n",
       "    \n",
       "    <script src=\"https://threejs.org/examples/js/WebGL.js\"></script>\n",
       "    <script src=\"https://threejs.org/examples/js/libs/stats.min.js\"></script>\n",
       "    <script src=\"https://threejs.org/examples/js/libs/dat.gui.min.js\"></script>\n",
       "    \n",
       "    <script src=\"https://threejs.org/examples/js/controls/OrbitControls.js\"></script>\n",
       "    \n",
       "    <style>\n",
       "    \n",
       "    .dg li {\n",
       "        background: #f7f7f7 !important;\n",
       "    }\n",
       "    .dg {\n",
       "       color: #111;\n",
       "       text-shadow: none;\n",
       "    }\n",
       "    .dg.main .close-button {\n",
       "        background: none;\n",
       "    }\n",
       "    .dg.main .close-button:hover {\n",
       "       background: none;\n",
       "    }\n",
       "    .dg .cr.boolean {\n",
       "        border-left: 1px solid #cfcfcf;\n",
       "    }\n",
       "    .dg .cr.number {\n",
       "        border-left: 1px solid #cfcfcf;\n",
       "    }\n",
       "    .dg .c input[type=text] {\n",
       "        background: #fffefe00;\n",
       "        outline: none;\n",
       "        color: #111 !important;\n",
       "    }\n",
       "    .dg .c input[type=text]:hover {\n",
       "        background: #fffefe00;\n",
       "        outline: none;\n",
       "        color: #111 !important;\n",
       "    }\n",
       "    .dg .c .slider {\n",
       "        background: #d6d6d6;\n",
       "        cursor: ew-resize;\n",
       "        border-radius: 5px;\n",
       "    }\n",
       "    .dg .c .slider:hover {\n",
       "        background: #d6d6d6;\n",
       "    }\n",
       "    .dg .c .slider-fg {\n",
       "        background: #747575;\n",
       "        border-radius: 5px;\n",
       "    }\n",
       "    .dg .c .slider:hover .slider-fg {\n",
       "       background: #42a5f5;\n",
       "    }\n",
       "    .dg li:not(.folder) {\n",
       "        border: 1px solid #cfcfcf;\n",
       "        border-radius: 2px;\n",
       "    }\n",
       "    \n",
       "    </style>\n",
       "    \n",
       "    <script>\n",
       "    \n",
       "    function NewArray(type, base64) {\n",
       "        var binary_string =  window.atob(base64);\n",
       "        var len = binary_string.length;\n",
       "        var bytes = new Uint8Array( len );\n",
       "        for (var i = 0; i < len; i++)        {\n",
       "            bytes[i] = binary_string.charCodeAt(i);\n",
       "        }\n",
       "        return new type(bytes.buffer);\n",
       "    }\n",
       "    \n",
       "        if ( WEBGL.isWebGLAvailable() === false ) {\n",
       "            document.body.appendChild( WEBGL.getWebGLErrorMessage() );\n",
       "        }\n",
       "    \n",
       "        var renderer, scene, camera, stats, controls;\n",
       "        var objects = [];\n",
       "        var gui;\n",
       "    \n",
       "        factor_mesh = 10.000000;\n",
       "        factor_force = 1.000000;\n",
       "    \n",
       "        var WIDTH = window.innerWidth, HEIGHT = window.innerHeight;\n",
       "    \n",
       "        init();\n",
       "        animate();\n",
       "    \n",
       "        function init() {\n",
       "    \n",
       "            camera = new THREE.PerspectiveCamera( 60, WIDTH / HEIGHT, 1, 200 );\n",
       "            camera.position.z = 150;\n",
       "    \n",
       "            scene = new THREE.Scene();\n",
       "            scene.background = new THREE.Color( 0xFFFFFF);//0x111111 );\n",
       "            scene.fog = new THREE.Fog( 0xFFFFFF, 50, 200);\n",
       "    \n",
       "            renderer = new THREE.WebGLRenderer( { antialias: true } );\n",
       "            renderer.setPixelRatio( window.devicePixelRatio );\n",
       "            renderer.setSize( WIDTH, HEIGHT );\n",
       "    \n",
       "            var container = document.getElementById( \"container\" );\n",
       "            container.appendChild( renderer.domElement );\n",
       "    \n",
       "            //stats = new Stats();\n",
       "            //container.appendChild( stats.dom );\n",
       "    \n",
       "            //\n",
       "            addMesh(NewArray(Float64Array, \"AAAAAAAA4L8AAAAAAADgvwAAAAAAAOC/AAAAAAAA4L8AAAAAAADgPwAAAAAAAOC/AAAAAAAA4D8AAAAAAADgPwAAAAAAAOC/AAAAAAAA4D8AAAAAAADgvwAAAAAAAOC/AAAAAAAA4L8AAAAAAADgvwAAAAAAAOA/AAAAAAAA4D8AAAAAAADgvwAAAAAAAOA/AAAAAAAA4D8AAAAAAADgPwAAAAAAAOA/AAAAAAAA4L8AAAAAAADgPwAAAAAAAOA/\"), NewArray(Int32Array, \"AAAAAAEAAAAHAAAAAgAAAAAAAAACAAAABQAAAAMAAAAAAAAABAAAAAUAAAAHAAAAAgAAAAUAAAAGAAAABwAAAAAAAAAHAAAABQAAAAIAAAA=\"), NewArray(Float64Array, \"gickJpliqT96WV6hFq6Lv6ULgs04q4u/Zh/ArDpJsz8uKE3Na4OJP5hWltEmg4m/BtEjJpliqb9UaVyhFq6LP9ivf804q4u/0UzArDpJs79EMEzNa4OJv15TldEmg4m/UxzArDpJsz91U03Na4OJv8RoltEmg4k/a8gjJpliqb++IlyhFq6Lv9D9f804q4s/GVDArDpJs7+p8EvNa4OJP+IWldEmg4k/XjQkJpliqT/XfV6hFq6LP6rngc04q4s/\"), NewArray(Float64Array, \"HC0grxBtcD+05KnOz8IUP/t7eCV4uxQ/jsJRfSuaZz/e7ueVxFFDv+/FCFQ/UEM/UEZAMPezcT+Q26jOz8IUv4sDdyV4uxQ/yZO3IPJTdj/l0eeVxFFDP/enCFQ/UEM/R8JRfSuaZz8T8+eVxFFDP/rICFQ/UEO/UkZAMPezcT/aj6jOz8IUP1RSdyV4uxS/g5O3IPJTdj8+yeeVxFFDv/SfCFQ/UEO/CS0grxBtcD8aAKrOz8IUv6xUeCV4uxS/\"))\n",
       "            window.addEventListener( \"resize\", onWindowResize, false );\n",
       "    \n",
       "            controls = new THREE.OrbitControls( camera, renderer.domElement );\n",
       "            //controls.minDistance = 10;\n",
       "            //controls.maxDistance = 500;\n",
       "            initGui();\n",
       "    \n",
       "        }\n",
       "    \n",
       "    \n",
       "        function addMesh(points1, tets1, F1, U1) {\n",
       "            points = points1;\n",
       "            tets = tets1;\n",
       "            F = F1;\n",
       "            U = U1;\n",
       "    \n",
       "            for(var i=0; i < points.length; i++) {\n",
       "                points[i] *= factor_mesh;\n",
       "                U[i] *= factor_mesh;\n",
       "            }\n",
       "    \n",
       "            //var h = size * 0.5;\n",
       "    \n",
       "            var geometry = new THREE.BufferGeometry();\n",
       "            var position = [];\n",
       "            console.log(points.length, tets.length);\n",
       "    \n",
       "            connections = [];\n",
       "    \n",
       "            for(var t=0; t < tets.length/4; t++) {\n",
       "                for(var i=0; i < 4; i++) {\n",
       "                    for(var j=0; j < 4; j++) {\n",
       "                        var t1 = tets[t*4+i];\n",
       "                        var t2 = tets[t*4+j];\n",
       "                        if(t1 >= t2)\n",
       "                            continue;\n",
       "                        found = false;\n",
       "                        for(var c=0; c < connections.length; c++) {\n",
       "                            if(connections[c][0] == t1 && connections[c][1] == t2) {\n",
       "                                found = true;\n",
       "                                break;\n",
       "                            }\n",
       "    \n",
       "                        }\n",
       "                        if(found)\n",
       "                            continue;\n",
       "                        connections.push([t1, t2]);\n",
       "                        for(var x=0; x < 3; x++)\n",
       "                            position.push(points[t1*3+x]);\n",
       "                        for(var x=0; x < 3; x++)\n",
       "                            position.push(points[t2*3+x]);\n",
       "                    }\n",
       "                }\n",
       "                //console.log(t);\n",
       "            }\n",
       "            console.log(\"ready\");\n",
       "    \n",
       "            geometry.addAttribute( \"position\", new THREE.Float32BufferAttribute( position, 3 ) );\n",
       "    \n",
       "            //var geometryCube = cube( 50 );\n",
       "    \n",
       "            //var lineSegments = new THREE.LineSegments( geometry, new THREE.LineDashedMaterial( { color: 0xffaa00, dashSize: 3, gapSize: 1 } ) );\n",
       "            mesh_lines = new THREE.LineSegments( geometry, new THREE.LineBasicMaterial( { color: 0xffaa00, linewidth: 0.5, transparent: true, opacity: 0.5} ) );\n",
       "            mesh_lines.computeLineDistances();\n",
       "    \n",
       "            objects.push( mesh_lines );\n",
       "            scene.add( mesh_lines );\n",
       "    \n",
       "            var geometry = new THREE.BufferGeometry();\n",
       "            var position = [];\n",
       "            var force_tips = [];\n",
       "    \n",
       "            for(var i=0; i < U.length/3; i++) {\n",
       "                f_abs = Math.sqrt(F[i*3+0]**2 + F[i*3+1]**2 + F[i*3+2]**2);\n",
       "                factor = factor_force*factor_mesh;//1/f_abs/3000 * f_abs * 100000;\n",
       "                for(var x=0; x < 3; x++)\n",
       "                    position.push((points[i*3+x]));\n",
       "                for(var x=0; x < 3; x++) {\n",
       "                    position.push(points[i * 3 + x] + F[i * 3 + x] * factor);\n",
       "                    force_tips.push(points[i * 3 + x] + F[i * 3 + x] * factor);\n",
       "                }\n",
       "            }\n",
       "    \n",
       "            geometry.addAttribute( \"position\", new THREE.Float32BufferAttribute( position, 3 ) );\n",
       "    \n",
       "            force_mat = new THREE.LineBasicMaterial( { color: 0xaa0000, linewidth: 3,} );\n",
       "            force_lines = new THREE.LineSegments( geometry, force_mat );\n",
       "            force_lines.computeLineDistances();\n",
       "    \n",
       "            objects.push( force_lines );\n",
       "            scene.add( force_lines );\n",
       "    \n",
       "            var sprite = new THREE.TextureLoader().load( \"https://threejs.org/examples/textures/sprites/disc.png\" );\n",
       "    \n",
       "            var geometry = new THREE.BufferGeometry();\n",
       "            geometry.addAttribute( \"position\", new THREE.Float32BufferAttribute( points, 3 ) );\n",
       "            mesh_points = new THREE.Points( geometry, new THREE.PointsMaterial( { size: 8, sizeAttenuation: false, color: 0xffaa00, map: sprite, alphaTest: 0.5, transparent: true } ) );\n",
       "            scene.add( mesh_points );\n",
       "    \n",
       "            var geometry = new THREE.BufferGeometry();\n",
       "            geometry.addAttribute( \"position\", new THREE.Float32BufferAttribute( force_tips, 3 ) );\n",
       "            force_points = new THREE.Points( geometry, new THREE.PointsMaterial( { size: 10, sizeAttenuation: false, color: 0xaa0000, map: sprite, alphaTest: 0.5, transparent: true } ) );\n",
       "            scene.add( force_points );\n",
       "    \n",
       "            // Displacements\n",
       "    \n",
       "            var geometry = new THREE.BufferGeometry();\n",
       "            var position = [];\n",
       "            var displacement_tips = [];\n",
       "    \n",
       "            for(var i=0; i < U.length/3; i++) {\n",
       "                for(var x=0; x < 3; x++)\n",
       "                    position.push((points[i*3+x]));\n",
       "                for(var x=0; x < 3; x++) {\n",
       "                    position.push(points[i * 3 + x] + U[i * 3 + x]);\n",
       "                    displacement_tips.push(points[i * 3 + x] + U[i * 3 + x]);\n",
       "                }\n",
       "            }\n",
       "    \n",
       "            geometry.addAttribute( \"position\", new THREE.Float32BufferAttribute( position, 3 ) );\n",
       "            displacement_mat = new THREE.LineBasicMaterial( { color: 0x00aa00, linewidth: 2,} );\n",
       "            displacement_lines = new THREE.LineSegments( geometry, displacement_mat );\n",
       "            displacement_lines.computeLineDistances();\n",
       "    \n",
       "            objects.push( displacement_lines );\n",
       "            scene.add( displacement_lines );\n",
       "    \n",
       "            var geometry = new THREE.BufferGeometry();\n",
       "            geometry.addAttribute( \"position\", new THREE.Float32BufferAttribute( displacement_tips, 3 ) );\n",
       "            displacement_points = new THREE.Points( geometry, new THREE.PointsMaterial( { size: 10, sizeAttenuation: false, color: 0x00aa00, map: sprite, alphaTest: 0.5, transparent: true } ) );\n",
       "            scene.add( displacement_points );\n",
       "        }\n",
       "    \n",
       "        function onWindowResize() {\n",
       "            camera.aspect = window.innerWidth / window.innerHeight;\n",
       "            camera.updateProjectionMatrix();\n",
       "            renderer.setSize( window.innerWidth, window.innerHeight );\n",
       "        }\n",
       "    \n",
       "        function animate() {\n",
       "            requestAnimationFrame( animate );\n",
       "    \n",
       "            render();\n",
       "            renderer.render( scene, camera );\n",
       "            //stats.update();\n",
       "    \n",
       "        }\n",
       "    \n",
       "        function render() {\n",
       "    \n",
       "            var time = Date.now() * 0.001;\n",
       "    \n",
       "            scene.traverse( function ( object ) {\n",
       "    \n",
       "                //if ( object.isLine ) {\n",
       "    \n",
       "                    object.rotation.y = 0.25 * time;\n",
       "                    //object.rotation.y = 0.25 * time;\n",
       "    \n",
       "                //}\n",
       "    \n",
       "            } );\n",
       "    \n",
       "            renderer.render( scene, camera );\n",
       "    \n",
       "        }\n",
       "    \n",
       "        function initGui() {\n",
       "            gui = new dat.GUI();\n",
       "            var param = {\n",
       "                \"mesh\": true,\n",
       "                \"forces\": true,\n",
       "                \"force scale\": 1,\n",
       "                \"displacements\": true,\n",
       "                \"view_range\" : 200,\n",
       "            };\n",
       "            gui.add( param, \"mesh\" ).onChange( function ( val ) {\n",
       "                mesh_lines.visible = val;\n",
       "                mesh_points.visible = val;\n",
       "            } );\n",
       "            gui.add( param, \"forces\" ).onChange( function ( val ) {\n",
       "                force_lines.visible = val;\n",
       "                force_points.visible = val;\n",
       "            } );\n",
       "    \n",
       "            gui.add( param, \"force scale\", 1, 8, 0.1 ).onChange( function ( val ) {\n",
       "                var position = [];\n",
       "                var force_tips = [];\n",
       "    \n",
       "                for(var i=0; i < U.length/3; i++) {\n",
       "                    f_abs = Math.sqrt(F[i * 3 + 0] ** 2 + F[i * 3 + 1] ** 2 + F[i * 3 + 2] ** 2);\n",
       "                    factor = factor_force * factor_mesh * val;//1/f_abs/3000 * f_abs * 100000;\n",
       "                    for (var x = 0; x < 3; x++)\n",
       "                        position.push((points[i * 3 + x]));\n",
       "                    for (var x = 0; x < 3; x++) {\n",
       "                        position.push(points[i * 3 + x] + F[i * 3 + x] * factor);\n",
       "                        force_tips.push(points[i * 3 + x] + F[i * 3 + x] * factor);\n",
       "                    }\n",
       "                }\n",
       "                force_lines.geometry.addAttribute( \"position\", new THREE.Float32BufferAttribute( position, 3 ) );\n",
       "                force_points.geometry.addAttribute( \"position\", new THREE.Float32BufferAttribute( force_tips, 3 ) );\n",
       "            } );\n",
       "    \n",
       "            gui.add( param, \"displacements\" ).onChange( function ( val ) {\n",
       "                displacement_lines.visible = val;\n",
       "                displacement_points.visible = val;\n",
       "            } );\n",
       "    \n",
       "            gui.add( param, \"view_range\", 10, 300, 1 ).onChange( function ( val ) {\n",
       "                scene.fog.far = val;\n",
       "            } );\n",
       "        }\n",
       "    \n",
       "    </script>\n",
       "    ' scrolling=no style='border:none; width: 100%; height: 600px'></iframe>"
      ],
      "text/plain": [
       "<IPython.core.display.HTML object>"
      ]
     },
     "metadata": {},
     "output_type": "display_data"
    }
   ],
   "source": [
    "M.viewMesh(10, 1)"
   ]
  }
 ],
 "metadata": {
  "celltoolbar": "Raw Cell Format",
  "kernelspec": {
   "display_name": "Python 3",
   "language": "python",
   "name": "python3"
  },
  "language_info": {
   "codemirror_mode": {
    "name": "ipython",
    "version": 3
   },
   "file_extension": ".py",
   "mimetype": "text/x-python",
   "name": "python",
   "nbconvert_exporter": "python",
   "pygments_lexer": "ipython3",
   "version": "3.7.1"
  }
 },
 "nbformat": 4,
 "nbformat_minor": 1
}
